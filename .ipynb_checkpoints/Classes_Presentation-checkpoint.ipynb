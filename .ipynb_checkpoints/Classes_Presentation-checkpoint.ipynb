{
 "cells": [
  {
   "cell_type": "code",
   "execution_count": 150,
   "metadata": {},
   "outputs": [],
   "source": [
    "\n",
    "class RaceCar:     \n",
    "    \n",
    "    \"\"\"This is a doc string of the RaceCar class\"\"\"\n",
    "    \n",
    "    def __init__(self, color, fuel_remaining, **kwargs): \n",
    "        \n",
    "        \"\"\"This is a docstring for each instance of the RaceCar class\"\"\"\n",
    "        \n",
    "        self.color = color \n",
    "        self.fuel_remaining = fuel_remaining \n",
    "        self.laps = 0\n",
    "        \n",
    "        for key, item in kwargs.items(): \n",
    "            setattr(self, key, item) \n",
    "        \n",
    "    def run_lap(self, length):  \n",
    "        \n",
    "        \"\"\"This is the docstring for the run_lap method\"\"\"\n",
    "        \n",
    "        try: \n",
    "            self.fuel_remaining = self.fuel_remaining - (length * 0.125) \n",
    "        except: \n",
    "            raise ValueError(\"Make sure self.fuel_remaining and length are integers\")\n",
    "        self.laps += 1 \n",
    "        \n",
    "    def test_function():\n",
    "        pass"
   ]
  },
  {
   "cell_type": "code",
   "execution_count": 74,
   "metadata": {},
   "outputs": [],
   "source": [
    "#instantiating an object of the RaceCar class \n",
    "my_car = RaceCar(color='red', fuel_remaining=10)"
   ]
  },
  {
   "cell_type": "code",
   "execution_count": 75,
   "metadata": {},
   "outputs": [
    {
     "name": "stdout",
     "output_type": "stream",
     "text": [
      "Color of my car: red\n",
      "Fuel remaining: 10\n",
      "Number of laps run: 0\n"
     ]
    }
   ],
   "source": [
    "print(\"Color of my car:\", my_car.color) \n",
    "print(\"Fuel remaining:\", my_car.fuel_remaining)\n",
    "print(\"Number of laps run:\", my_car.laps)"
   ]
  },
  {
   "cell_type": "code",
   "execution_count": 123,
   "metadata": {},
   "outputs": [],
   "source": [
    "#a second instance. Why am I allowed to use \"brand\" as an argument?\n",
    "second_car = RaceCar('blue', 10, brand='Honda')"
   ]
  },
  {
   "cell_type": "code",
   "execution_count": 129,
   "metadata": {
    "scrolled": true
   },
   "outputs": [],
   "source": [
    "second_car.run_lap(10)"
   ]
  },
  {
   "cell_type": "code",
   "execution_count": 130,
   "metadata": {},
   "outputs": [
    {
     "data": {
      "text/plain": [
       "3"
      ]
     },
     "execution_count": 130,
     "metadata": {},
     "output_type": "execute_result"
    }
   ],
   "source": [
    "second_car.laps"
   ]
  },
  {
   "cell_type": "code",
   "execution_count": 132,
   "metadata": {
    "scrolled": false
   },
   "outputs": [
    {
     "name": "stdout",
     "output_type": "stream",
     "text": [
      "Help on class RaceCar in module __main__:\n",
      "\n",
      "class RaceCar(builtins.object)\n",
      " |  RaceCar(color, fuel_remaining, **kwargs)\n",
      " |  \n",
      " |  This is a doc string of the RaceCar class\n",
      " |  \n",
      " |  Methods defined here:\n",
      " |  \n",
      " |  __init__(self, color, fuel_remaining, **kwargs)\n",
      " |      This is a docstring for each instance of the RaceCar class\n",
      " |  \n",
      " |  run_lap(self, length)\n",
      " |  \n",
      " |  ----------------------------------------------------------------------\n",
      " |  Data descriptors defined here:\n",
      " |  \n",
      " |  __dict__\n",
      " |      dictionary for instance variables (if defined)\n",
      " |  \n",
      " |  __weakref__\n",
      " |      list of weak references to the object (if defined)\n",
      "\n"
     ]
    }
   ],
   "source": [
    "help(RaceCar)"
   ]
  },
  {
   "cell_type": "code",
   "execution_count": 141,
   "metadata": {},
   "outputs": [
    {
     "data": {
      "text/plain": [
       "['__class__',\n",
       " '__delattr__',\n",
       " '__dict__',\n",
       " '__dir__',\n",
       " '__doc__',\n",
       " '__eq__',\n",
       " '__format__',\n",
       " '__ge__',\n",
       " '__getattribute__',\n",
       " '__gt__',\n",
       " '__hash__',\n",
       " '__init__',\n",
       " '__init_subclass__',\n",
       " '__le__',\n",
       " '__lt__',\n",
       " '__module__',\n",
       " '__ne__',\n",
       " '__new__',\n",
       " '__reduce__',\n",
       " '__reduce_ex__',\n",
       " '__repr__',\n",
       " '__setattr__',\n",
       " '__sizeof__',\n",
       " '__str__',\n",
       " '__subclasshook__',\n",
       " '__weakref__',\n",
       " 'brand',\n",
       " 'color',\n",
       " 'fuel_remaining',\n",
       " 'laps',\n",
       " 'run_lap']"
      ]
     },
     "execution_count": 141,
     "metadata": {},
     "output_type": "execute_result"
    }
   ],
   "source": [
    "dir(second_car)"
   ]
  },
  {
   "cell_type": "code",
   "execution_count": null,
   "metadata": {},
   "outputs": [],
   "source": [
    "help()"
   ]
  }
 ],
 "metadata": {
  "kernelspec": {
   "display_name": "Python 3",
   "language": "python",
   "name": "python3"
  },
  "language_info": {
   "codemirror_mode": {
    "name": "ipython",
    "version": 3
   },
   "file_extension": ".py",
   "mimetype": "text/x-python",
   "name": "python",
   "nbconvert_exporter": "python",
   "pygments_lexer": "ipython3",
   "version": "3.8.5"
  }
 },
 "nbformat": 4,
 "nbformat_minor": 2
}
