{
 "cells": [
  {
   "cell_type": "code",
   "execution_count": 1,
   "metadata": {},
   "outputs": [],
   "source": [
    "import requests \n",
    "from bs4 import BeautifulSoup \n",
    "import re \n",
    "\n",
    "URL = 'https://featoflouisville.org/programs/'\n",
    "page = requests.get(URL)"
   ]
  },
  {
   "cell_type": "code",
   "execution_count": 2,
   "metadata": {},
   "outputs": [],
   "source": [
    "soup = BeautifulSoup(page.content, 'html.parser')"
   ]
  },
  {
   "cell_type": "code",
   "execution_count": 6,
   "metadata": {},
   "outputs": [],
   "source": [
    "results = soup.find('p').get_text()"
   ]
  },
  {
   "cell_type": "code",
   "execution_count": 7,
   "metadata": {},
   "outputs": [
    {
     "data": {
      "text/plain": [
       "'The Endeavor Program began as a collaboration between Carriage House Educational Services and FEAT of Louisville in 2003 to extend the traditional preschool program to provide a specialized, therapeutic preschool program for children ages 2-6 who have been identified as having autism or a related disorder. The Endeavor Program features a unique blend of Early Childhood Education and Early Intervention curriculums and strategies presented in a natural learning environment with a 2:1 student/teacher ratio. With six children and three trained staff in each classroom, the Endeavor Program ensures the intense interaction and instructional guidance that children with autism require to learn in a group setting. The teacher, behavior therapist, and parents review initial assessments and create Individualized Education Plans for each child so that they understand current skills, needed goals/objectives and skill acquisition.'"
      ]
     },
     "execution_count": 7,
     "metadata": {},
     "output_type": "execute_result"
    }
   ],
   "source": [
    "results"
   ]
  },
  {
   "cell_type": "code",
   "execution_count": 8,
   "metadata": {},
   "outputs": [],
   "source": [
    "cleaned = re.split(\"autism\", results)"
   ]
  },
  {
   "cell_type": "code",
   "execution_count": 9,
   "metadata": {},
   "outputs": [
    {
     "data": {
      "text/plain": [
       "' or a related disorder. The Endeavor Program features a unique blend of Early Childhood Education and Early Intervention curriculums and strategies presented in a natural learning environment with a 2:1 student/teacher ratio. With six children and three trained staff in each classroom, the Endeavor Program ensures the intense interaction and instructional guidance that children with '"
      ]
     },
     "execution_count": 9,
     "metadata": {},
     "output_type": "execute_result"
    }
   ],
   "source": [
    "cleaned[1]"
   ]
  },
  {
   "cell_type": "code",
   "execution_count": null,
   "metadata": {},
   "outputs": [],
   "source": []
  }
 ],
 "metadata": {
  "kernelspec": {
   "display_name": "Python 3",
   "language": "python",
   "name": "python3"
  },
  "language_info": {
   "codemirror_mode": {
    "name": "ipython",
    "version": 3
   },
   "file_extension": ".py",
   "mimetype": "text/x-python",
   "name": "python",
   "nbconvert_exporter": "python",
   "pygments_lexer": "ipython3",
   "version": "3.7.0"
  }
 },
 "nbformat": 4,
 "nbformat_minor": 2
}
