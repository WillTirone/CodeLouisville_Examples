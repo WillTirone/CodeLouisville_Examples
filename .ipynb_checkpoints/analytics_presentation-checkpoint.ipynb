{
 "cells": [
  {
   "cell_type": "markdown",
   "metadata": {},
   "source": [
    "# Programming and Analytics: An Introduction to the Industry"
   ]
  },
  {
   "cell_type": "markdown",
   "metadata": {},
   "source": [
    "## 1. What is analytics / data science? \n",
    "\n",
    "Analytics uses data and math to answer business questions, discover relationships, predict unknown outcomes and automate decisions. (https://www.sas.com/en_us/insights/analytics/what-is-analytics.html) \n",
    "\n",
    "You will notice this is extremely vague. Analytics encompasses a lot of different fields and subfields; analytical thinking and skills are used in everything from marine biology to finance. This is good news, because the skills for this are in demand and probably will be for a long time. \n",
    "\n",
    "Disclaimer: if you search for resources on the internet about \"what langauge should I learn?\" or \"How do I get into analytics?\" you will get dozens of different answers! Many different people from many different backgrounds have landed jobs in the field, and you can too. This is just my personal experience."
   ]
  },
  {
   "cell_type": "markdown",
   "metadata": {},
   "source": [
    "## 2. What skills or programming languages do I need to know if I want to get into the field? \n",
    "\n",
    "### 2.1 the non-open source languages (used in data analytics): \n",
    "\n",
    "These were created by and maintained by a variety of companies. They are (mostly) not open source. The descriptions here are an over-generalization, but should be enough to get you started. I would probably not recommend you learn any of these as your first programming language. At a general level,  they do fairly similar things though with different syntaxes. If you get fairly in depth though, they become very powerful languages.\n",
    "\n",
    "**MATLAB**: Created by MathWorks, used in engineering and mathematically-heavy applications. \n",
    "\n",
    "**SAS**: Created by the SAS Institute, used in statistical and analytical applications \n",
    "\n",
    "**STATA**: Developed by StataCorp for data manipulation, visualization, statistics, and automated reporting. Mostly used by researchers in different fields. \n",
    "\n",
    "**SPSS**: SPSS Statistics is a software package used for interactive, or batched, statistical analysis. Long produced by SPSS Inc., it was acquired by IBM in 2009. Originally stood for \"Statistical Package for the Social Sciences\", still widely used by the social sciences. \n",
    "\n",
    "### 2.2 the open-source languages (used in data analytics): \n",
    "\n",
    "These were created often by universities or individuals and are completely free, which is a big reason why they're so popular! You can start using any of these right now. \n",
    "\n",
    "**Python**\n",
    "\n",
    "**R** \n",
    "\n",
    "**Julia** \n",
    "\n",
    "**SQL** \n",
    "\n",
    "**C / C# / C**\n"
   ]
  },
  {
   "cell_type": "code",
   "execution_count": null,
   "metadata": {},
   "outputs": [],
   "source": []
  }
 ],
 "metadata": {
  "kernelspec": {
   "display_name": "Python 3",
   "language": "python",
   "name": "python3"
  },
  "language_info": {
   "codemirror_mode": {
    "name": "ipython",
    "version": 3
   },
   "file_extension": ".py",
   "mimetype": "text/x-python",
   "name": "python",
   "nbconvert_exporter": "python",
   "pygments_lexer": "ipython3",
   "version": "3.8.5"
  }
 },
 "nbformat": 4,
 "nbformat_minor": 4
}
