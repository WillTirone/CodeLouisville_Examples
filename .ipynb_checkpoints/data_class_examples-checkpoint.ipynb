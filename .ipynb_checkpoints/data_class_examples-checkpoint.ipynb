{
 "cells": [
  {
   "cell_type": "code",
   "execution_count": 1,
   "metadata": {},
   "outputs": [],
   "source": [
    "import pandas as pd \n",
    "import numpy as np "
   ]
  },
  {
   "cell_type": "markdown",
   "metadata": {
    "heading_collapsed": true
   },
   "source": [
    "## Let's work with some salary data:\n",
    "\n",
    "I downloaded some data on metro employee salaries here: https://data.louisvilleky.gov/dataset/employee-salary-data\n",
    "\n",
    "Notice there isn't a data dictionary, so we'll have to do our own analysis to figure out what these columns mean.\n",
    "\n",
    "Documentation on the dataframe is here: https://pandas.pydata.org/pandas-docs/stable/reference/frame.html"
   ]
  },
  {
   "cell_type": "code",
   "execution_count": 2,
   "metadata": {
    "hidden": true
   },
   "outputs": [
    {
     "data": {
      "text/html": [
       "<div>\n",
       "<style scoped>\n",
       "    .dataframe tbody tr th:only-of-type {\n",
       "        vertical-align: middle;\n",
       "    }\n",
       "\n",
       "    .dataframe tbody tr th {\n",
       "        vertical-align: top;\n",
       "    }\n",
       "\n",
       "    .dataframe thead th {\n",
       "        text-align: right;\n",
       "    }\n",
       "</style>\n",
       "<table border=\"1\" class=\"dataframe\">\n",
       "  <thead>\n",
       "    <tr style=\"text-align: right;\">\n",
       "      <th></th>\n",
       "      <th>CalYear</th>\n",
       "      <th>Employee_Name</th>\n",
       "      <th>Department</th>\n",
       "      <th>jobTitle</th>\n",
       "      <th>Annual_Rate</th>\n",
       "      <th>Regular_Rate</th>\n",
       "      <th>Overtime_Rate</th>\n",
       "      <th>Incentive_Allowance</th>\n",
       "      <th>Other</th>\n",
       "      <th>YTD_Total</th>\n",
       "    </tr>\n",
       "  </thead>\n",
       "  <tbody>\n",
       "    <tr>\n",
       "      <th>0</th>\n",
       "      <td>2020</td>\n",
       "      <td>NaN</td>\n",
       "      <td>Parks &amp; Recreation</td>\n",
       "      <td>Park Worker II-CDL</td>\n",
       "      <td>33321.60</td>\n",
       "      <td>1249.56</td>\n",
       "      <td>0.00</td>\n",
       "      <td>0.00</td>\n",
       "      <td>0.00</td>\n",
       "      <td>1249.56</td>\n",
       "    </tr>\n",
       "    <tr>\n",
       "      <th>1</th>\n",
       "      <td>2020</td>\n",
       "      <td>NaN</td>\n",
       "      <td>Parks &amp; Recreation</td>\n",
       "      <td>Recreation Instructor</td>\n",
       "      <td>22880.00</td>\n",
       "      <td>569.25</td>\n",
       "      <td>0.00</td>\n",
       "      <td>0.00</td>\n",
       "      <td>0.00</td>\n",
       "      <td>569.25</td>\n",
       "    </tr>\n",
       "    <tr>\n",
       "      <th>2</th>\n",
       "      <td>2020</td>\n",
       "      <td>NaN</td>\n",
       "      <td>Parks &amp; Recreation</td>\n",
       "      <td>Recreation Aide</td>\n",
       "      <td>21840.00</td>\n",
       "      <td>152.25</td>\n",
       "      <td>0.00</td>\n",
       "      <td>0.00</td>\n",
       "      <td>0.00</td>\n",
       "      <td>152.25</td>\n",
       "    </tr>\n",
       "    <tr>\n",
       "      <th>3</th>\n",
       "      <td>2020</td>\n",
       "      <td>NaN</td>\n",
       "      <td>Human Services</td>\n",
       "      <td>Staff Helper/Internal</td>\n",
       "      <td>21008.00</td>\n",
       "      <td>333.30</td>\n",
       "      <td>0.00</td>\n",
       "      <td>0.00</td>\n",
       "      <td>0.00</td>\n",
       "      <td>333.30</td>\n",
       "    </tr>\n",
       "    <tr>\n",
       "      <th>4</th>\n",
       "      <td>2020</td>\n",
       "      <td>NaN</td>\n",
       "      <td>Parks &amp; Recreation</td>\n",
       "      <td>Recreation Aide</td>\n",
       "      <td>21840.00</td>\n",
       "      <td>152.25</td>\n",
       "      <td>0.00</td>\n",
       "      <td>0.00</td>\n",
       "      <td>0.00</td>\n",
       "      <td>152.25</td>\n",
       "    </tr>\n",
       "    <tr>\n",
       "      <th>5</th>\n",
       "      <td>2020</td>\n",
       "      <td>NaN</td>\n",
       "      <td>Human Services</td>\n",
       "      <td>Staff Helper/Internal</td>\n",
       "      <td>21008.00</td>\n",
       "      <td>333.30</td>\n",
       "      <td>0.00</td>\n",
       "      <td>0.00</td>\n",
       "      <td>0.00</td>\n",
       "      <td>333.30</td>\n",
       "    </tr>\n",
       "    <tr>\n",
       "      <th>6</th>\n",
       "      <td>2021</td>\n",
       "      <td>NaN</td>\n",
       "      <td>Belle of Louisville</td>\n",
       "      <td>Hospitality Worker</td>\n",
       "      <td>3120.00</td>\n",
       "      <td>687.00</td>\n",
       "      <td>0.00</td>\n",
       "      <td>0.00</td>\n",
       "      <td>0.00</td>\n",
       "      <td>687.00</td>\n",
       "    </tr>\n",
       "    <tr>\n",
       "      <th>7</th>\n",
       "      <td>2021</td>\n",
       "      <td>NaN</td>\n",
       "      <td>Parks &amp; Recreation</td>\n",
       "      <td>Park Aide</td>\n",
       "      <td>31200.00</td>\n",
       "      <td>600.00</td>\n",
       "      <td>0.00</td>\n",
       "      <td>0.00</td>\n",
       "      <td>0.00</td>\n",
       "      <td>600.00</td>\n",
       "    </tr>\n",
       "    <tr>\n",
       "      <th>8</th>\n",
       "      <td>2016</td>\n",
       "      <td>Knop, Paul</td>\n",
       "      <td>Louisville Fire</td>\n",
       "      <td>Fire Prevention Inspector I</td>\n",
       "      <td>52873.60</td>\n",
       "      <td>52320.82</td>\n",
       "      <td>485.98</td>\n",
       "      <td>14304.12</td>\n",
       "      <td>1103.64</td>\n",
       "      <td>68214.56</td>\n",
       "    </tr>\n",
       "    <tr>\n",
       "      <th>9</th>\n",
       "      <td>2017</td>\n",
       "      <td>Knop, Paul</td>\n",
       "      <td>Louisville Fire</td>\n",
       "      <td>Fire Prevention Inspector I</td>\n",
       "      <td>53930.24</td>\n",
       "      <td>53361.27</td>\n",
       "      <td>0.00</td>\n",
       "      <td>15697.40</td>\n",
       "      <td>1037.12</td>\n",
       "      <td>70095.79</td>\n",
       "    </tr>\n",
       "  </tbody>\n",
       "</table>\n",
       "</div>"
      ],
      "text/plain": [
       "   CalYear Employee_Name           Department                     jobTitle  \\\n",
       "0     2020           NaN   Parks & Recreation           Park Worker II-CDL   \n",
       "1     2020           NaN   Parks & Recreation        Recreation Instructor   \n",
       "2     2020           NaN   Parks & Recreation              Recreation Aide   \n",
       "3     2020           NaN       Human Services        Staff Helper/Internal   \n",
       "4     2020           NaN   Parks & Recreation              Recreation Aide   \n",
       "5     2020           NaN       Human Services        Staff Helper/Internal   \n",
       "6     2021           NaN  Belle of Louisville           Hospitality Worker   \n",
       "7     2021           NaN   Parks & Recreation                    Park Aide   \n",
       "8     2016    Knop, Paul      Louisville Fire  Fire Prevention Inspector I   \n",
       "9     2017    Knop, Paul      Louisville Fire  Fire Prevention Inspector I   \n",
       "\n",
       "   Annual_Rate  Regular_Rate  Overtime_Rate  Incentive_Allowance    Other  \\\n",
       "0     33321.60       1249.56           0.00                 0.00     0.00   \n",
       "1     22880.00        569.25           0.00                 0.00     0.00   \n",
       "2     21840.00        152.25           0.00                 0.00     0.00   \n",
       "3     21008.00        333.30           0.00                 0.00     0.00   \n",
       "4     21840.00        152.25           0.00                 0.00     0.00   \n",
       "5     21008.00        333.30           0.00                 0.00     0.00   \n",
       "6      3120.00        687.00           0.00                 0.00     0.00   \n",
       "7     31200.00        600.00           0.00                 0.00     0.00   \n",
       "8     52873.60      52320.82         485.98             14304.12  1103.64   \n",
       "9     53930.24      53361.27           0.00             15697.40  1037.12   \n",
       "\n",
       "   YTD_Total  \n",
       "0    1249.56  \n",
       "1     569.25  \n",
       "2     152.25  \n",
       "3     333.30  \n",
       "4     152.25  \n",
       "5     333.30  \n",
       "6     687.00  \n",
       "7     600.00  \n",
       "8   68214.56  \n",
       "9   70095.79  "
      ]
     },
     "execution_count": 2,
     "metadata": {},
     "output_type": "execute_result"
    }
   ],
   "source": [
    "#note that I have this CSV in the same directory as this jupyter notebook\n",
    "df = pd.read_csv('data\\SalaryData.csv')\n",
    "df.head(10)"
   ]
  },
  {
   "cell_type": "code",
   "execution_count": null,
   "metadata": {
    "hidden": true
   },
   "outputs": [],
   "source": [
    "#47,000 rows, so not huge, but a decent-sized data set\n",
    "df.shape"
   ]
  },
  {
   "cell_type": "markdown",
   "metadata": {
    "heading_collapsed": true
   },
   "source": [
    "## Selecting data: \n",
    "\n",
    "https://jakevdp.github.io/PythonDataScienceHandbook/03.02-data-indexing-and-selection.html\n",
    "\n",
    "You can look at the link above, which is where I learned all of this. Sometimes it's just easier to see by example, so below are some code snippets working with our data. "
   ]
  },
  {
   "cell_type": "code",
   "execution_count": null,
   "metadata": {
    "hidden": true
   },
   "outputs": [],
   "source": [
    "df[['CalYear', 'Employee_Name']]"
   ]
  },
  {
   "cell_type": "code",
   "execution_count": null,
   "metadata": {
    "hidden": true
   },
   "outputs": [],
   "source": [
    "df[0:5]"
   ]
  },
  {
   "cell_type": "markdown",
   "metadata": {
    "hidden": true
   },
   "source": [
    "Notice, though, that we can \"chain\" these operations together, like below. There is a definite trade-off though in readability as you start to chain more things together, so be careful! Make sure you can still tell what you're doing."
   ]
  },
  {
   "cell_type": "code",
   "execution_count": null,
   "metadata": {
    "hidden": true
   },
   "outputs": [],
   "source": [
    "df[['CalYear', 'Employee_Name']][0:5]"
   ]
  },
  {
   "cell_type": "code",
   "execution_count": null,
   "metadata": {
    "hidden": true
   },
   "outputs": [],
   "source": [
    "#this statement, for example, has quite a few things going on so it may be slightly less clear what's happening\n",
    "df['Annual_Rate'][0:5].mean()"
   ]
  },
  {
   "cell_type": "code",
   "execution_count": null,
   "metadata": {
    "hidden": true,
    "scrolled": true
   },
   "outputs": [],
   "source": [
    "#keep in mind that your operations are different based on how much data you have selected\n",
    "df['Annual_Rate'].mean()"
   ]
  },
  {
   "cell_type": "markdown",
   "metadata": {
    "heading_collapsed": true,
    "hidden": true
   },
   "source": [
    "### Using the indexes:"
   ]
  },
  {
   "cell_type": "code",
   "execution_count": null,
   "metadata": {
    "hidden": true,
    "scrolled": false
   },
   "outputs": [],
   "source": [
    "#you already saw this example, which is just slicing by the index, the numbers on the left-hand side. Works like a list.\n",
    "df[0:5]"
   ]
  },
  {
   "cell_type": "markdown",
   "metadata": {
    "hidden": true
   },
   "source": [
    ".loc and .iloc:\n",
    "- the loc attribute allows indexing and slicing that always references the explicit index\n",
    "- the iloc attribute allows indexing and slicing that always references the implicit Python-style index\n",
    "\n",
    "It's a little easier to show in the below example rather than in our data:"
   ]
  },
  {
   "cell_type": "code",
   "execution_count": null,
   "metadata": {
    "hidden": true,
    "scrolled": true
   },
   "outputs": [],
   "source": [
    "data = pd.DataFrame(['a', 'b', 'c'], index=[1, 3, 5])\n",
    "data"
   ]
  },
  {
   "cell_type": "code",
   "execution_count": null,
   "metadata": {
    "hidden": true
   },
   "outputs": [],
   "source": [
    "data.loc[1:3]"
   ]
  },
  {
   "cell_type": "code",
   "execution_count": null,
   "metadata": {
    "hidden": true
   },
   "outputs": [],
   "source": [
    "data.iloc[1:3]"
   ]
  },
  {
   "cell_type": "markdown",
   "metadata": {
    "heading_collapsed": true
   },
   "source": [
    "## Pull off a subset of data to work with:"
   ]
  },
  {
   "cell_type": "code",
   "execution_count": null,
   "metadata": {
    "hidden": true,
    "scrolled": true
   },
   "outputs": [],
   "source": [
    "df_transpose = df[0:5].T\n",
    "df_transpose"
   ]
  },
  {
   "cell_type": "code",
   "execution_count": null,
   "metadata": {
    "hidden": true
   },
   "outputs": [],
   "source": [
    "df_transpose.loc[0:3] #what's this going to do? "
   ]
  },
  {
   "cell_type": "code",
   "execution_count": null,
   "metadata": {
    "hidden": true
   },
   "outputs": [],
   "source": [
    "df_transpose.iloc[0:3] #notice the normal Python-style indexing here"
   ]
  },
  {
   "cell_type": "code",
   "execution_count": null,
   "metadata": {
    "hidden": true
   },
   "outputs": [],
   "source": [
    "df_transpose[0:3]"
   ]
  },
  {
   "cell_type": "code",
   "execution_count": null,
   "metadata": {
    "hidden": true,
    "scrolled": true
   },
   "outputs": [],
   "source": [
    "df_transpose[[0,1]] #strange, that's giving us the columns now..."
   ]
  },
  {
   "cell_type": "code",
   "execution_count": null,
   "metadata": {
    "hidden": true
   },
   "outputs": [],
   "source": [
    "df_transpose['CalYear':'Annual_Rate']"
   ]
  },
  {
   "cell_type": "markdown",
   "metadata": {
    "heading_collapsed": true
   },
   "source": [
    "## Back to our normal data"
   ]
  },
  {
   "cell_type": "code",
   "execution_count": 4,
   "metadata": {
    "hidden": true
   },
   "outputs": [
    {
     "data": {
      "text/html": [
       "<div>\n",
       "<style scoped>\n",
       "    .dataframe tbody tr th:only-of-type {\n",
       "        vertical-align: middle;\n",
       "    }\n",
       "\n",
       "    .dataframe tbody tr th {\n",
       "        vertical-align: top;\n",
       "    }\n",
       "\n",
       "    .dataframe thead th {\n",
       "        text-align: right;\n",
       "    }\n",
       "</style>\n",
       "<table border=\"1\" class=\"dataframe\">\n",
       "  <thead>\n",
       "    <tr style=\"text-align: right;\">\n",
       "      <th></th>\n",
       "      <th>CalYear</th>\n",
       "      <th>Employee_Name</th>\n",
       "      <th>Department</th>\n",
       "      <th>jobTitle</th>\n",
       "      <th>Annual_Rate</th>\n",
       "      <th>Regular_Rate</th>\n",
       "      <th>Overtime_Rate</th>\n",
       "      <th>Incentive_Allowance</th>\n",
       "      <th>Other</th>\n",
       "      <th>YTD_Total</th>\n",
       "    </tr>\n",
       "  </thead>\n",
       "  <tbody>\n",
       "    <tr>\n",
       "      <th>36</th>\n",
       "      <td>2017</td>\n",
       "      <td>Hamilton, Edward</td>\n",
       "      <td>Mayor's Office</td>\n",
       "      <td>Chief of Public Services</td>\n",
       "      <td>126971.0</td>\n",
       "      <td>125629.80</td>\n",
       "      <td>0.0</td>\n",
       "      <td>0.0</td>\n",
       "      <td>2441.75</td>\n",
       "      <td>128071.55</td>\n",
       "    </tr>\n",
       "    <tr>\n",
       "      <th>37</th>\n",
       "      <td>2016</td>\n",
       "      <td>Hamilton, Edward</td>\n",
       "      <td>Mayor's Office</td>\n",
       "      <td>Chief of Public Services</td>\n",
       "      <td>124480.2</td>\n",
       "      <td>123174.99</td>\n",
       "      <td>0.0</td>\n",
       "      <td>0.0</td>\n",
       "      <td>2393.85</td>\n",
       "      <td>125568.84</td>\n",
       "    </tr>\n",
       "    <tr>\n",
       "      <th>38</th>\n",
       "      <td>2018</td>\n",
       "      <td>Hamilton, Edward</td>\n",
       "      <td>Mayor's Office</td>\n",
       "      <td>Chief of Public Services</td>\n",
       "      <td>129511.2</td>\n",
       "      <td>128143.40</td>\n",
       "      <td>0.0</td>\n",
       "      <td>0.0</td>\n",
       "      <td>2490.60</td>\n",
       "      <td>130634.00</td>\n",
       "    </tr>\n",
       "    <tr>\n",
       "      <th>39</th>\n",
       "      <td>2019</td>\n",
       "      <td>Hamilton, Edward</td>\n",
       "      <td>Mayor's Office</td>\n",
       "      <td>Chief of Public Services</td>\n",
       "      <td>129511.2</td>\n",
       "      <td>92152.20</td>\n",
       "      <td>0.0</td>\n",
       "      <td>0.0</td>\n",
       "      <td>19924.80</td>\n",
       "      <td>112077.00</td>\n",
       "    </tr>\n",
       "    <tr>\n",
       "      <th>129</th>\n",
       "      <td>2017</td>\n",
       "      <td>Burbrink, Donald</td>\n",
       "      <td>Louisville Metro Police</td>\n",
       "      <td>Police Major</td>\n",
       "      <td>118788.8</td>\n",
       "      <td>72303.28</td>\n",
       "      <td>0.0</td>\n",
       "      <td>9430.0</td>\n",
       "      <td>18275.20</td>\n",
       "      <td>100008.48</td>\n",
       "    </tr>\n",
       "  </tbody>\n",
       "</table>\n",
       "</div>"
      ],
      "text/plain": [
       "     CalYear     Employee_Name               Department  \\\n",
       "36      2017  Hamilton, Edward           Mayor's Office   \n",
       "37      2016  Hamilton, Edward           Mayor's Office   \n",
       "38      2018  Hamilton, Edward           Mayor's Office   \n",
       "39      2019  Hamilton, Edward           Mayor's Office   \n",
       "129     2017  Burbrink, Donald  Louisville Metro Police   \n",
       "\n",
       "                     jobTitle  Annual_Rate  Regular_Rate  Overtime_Rate  \\\n",
       "36   Chief of Public Services     126971.0     125629.80            0.0   \n",
       "37   Chief of Public Services     124480.2     123174.99            0.0   \n",
       "38   Chief of Public Services     129511.2     128143.40            0.0   \n",
       "39   Chief of Public Services     129511.2      92152.20            0.0   \n",
       "129              Police Major     118788.8      72303.28            0.0   \n",
       "\n",
       "     Incentive_Allowance     Other  YTD_Total  \n",
       "36                   0.0   2441.75  128071.55  \n",
       "37                   0.0   2393.85  125568.84  \n",
       "38                   0.0   2490.60  130634.00  \n",
       "39                   0.0  19924.80  112077.00  \n",
       "129               9430.0  18275.20  100008.48  "
      ]
     },
     "execution_count": 4,
     "metadata": {},
     "output_type": "execute_result"
    }
   ],
   "source": [
    "#note that you can also use df.query() https://pandas.pydata.org/pandas-docs/stable/reference/api/pandas.DataFrame.query.html\n",
    "mask = (df['Annual_Rate'] > 100000) & (df['Annual_Rate'] < 150000)\n",
    "\n",
    "high_earner_df = df[mask] #boolean masking, the only way I can remember how to query data in pandas\n",
    "high_earner_df.head()"
   ]
  },
  {
   "cell_type": "code",
   "execution_count": 5,
   "metadata": {
    "hidden": true,
    "scrolled": false
   },
   "outputs": [
    {
     "data": {
      "text/html": [
       "<div>\n",
       "<style scoped>\n",
       "    .dataframe tbody tr th:only-of-type {\n",
       "        vertical-align: middle;\n",
       "    }\n",
       "\n",
       "    .dataframe tbody tr th {\n",
       "        vertical-align: top;\n",
       "    }\n",
       "\n",
       "    .dataframe thead th {\n",
       "        text-align: right;\n",
       "    }\n",
       "</style>\n",
       "<table border=\"1\" class=\"dataframe\">\n",
       "  <thead>\n",
       "    <tr style=\"text-align: right;\">\n",
       "      <th></th>\n",
       "      <th>CalYear</th>\n",
       "      <th>Annual_Rate</th>\n",
       "      <th>Regular_Rate</th>\n",
       "      <th>Overtime_Rate</th>\n",
       "      <th>Incentive_Allowance</th>\n",
       "      <th>Other</th>\n",
       "      <th>YTD_Total</th>\n",
       "    </tr>\n",
       "  </thead>\n",
       "  <tbody>\n",
       "    <tr>\n",
       "      <th>count</th>\n",
       "      <td>780.000000</td>\n",
       "      <td>780.000000</td>\n",
       "      <td>780.000000</td>\n",
       "      <td>780.000000</td>\n",
       "      <td>780.000000</td>\n",
       "      <td>780.000000</td>\n",
       "      <td>780.000000</td>\n",
       "    </tr>\n",
       "    <tr>\n",
       "      <th>mean</th>\n",
       "      <td>2019.455128</td>\n",
       "      <td>113901.074000</td>\n",
       "      <td>85042.819192</td>\n",
       "      <td>1660.430846</td>\n",
       "      <td>3399.134333</td>\n",
       "      <td>1728.974000</td>\n",
       "      <td>91831.358372</td>\n",
       "    </tr>\n",
       "    <tr>\n",
       "      <th>std</th>\n",
       "      <td>1.983704</td>\n",
       "      <td>10900.982404</td>\n",
       "      <td>45514.497437</td>\n",
       "      <td>6480.351255</td>\n",
       "      <td>5296.140365</td>\n",
       "      <td>4449.207307</td>\n",
       "      <td>48551.813556</td>\n",
       "    </tr>\n",
       "    <tr>\n",
       "      <th>min</th>\n",
       "      <td>2016.000000</td>\n",
       "      <td>100001.200000</td>\n",
       "      <td>1796.560000</td>\n",
       "      <td>0.000000</td>\n",
       "      <td>0.000000</td>\n",
       "      <td>-2465.650000</td>\n",
       "      <td>1980.800000</td>\n",
       "    </tr>\n",
       "    <tr>\n",
       "      <th>25%</th>\n",
       "      <td>2018.000000</td>\n",
       "      <td>106121.600000</td>\n",
       "      <td>65694.722500</td>\n",
       "      <td>0.000000</td>\n",
       "      <td>0.000000</td>\n",
       "      <td>0.000000</td>\n",
       "      <td>77349.867500</td>\n",
       "    </tr>\n",
       "    <tr>\n",
       "      <th>50%</th>\n",
       "      <td>2020.000000</td>\n",
       "      <td>110635.200000</td>\n",
       "      <td>105139.220000</td>\n",
       "      <td>0.000000</td>\n",
       "      <td>0.000000</td>\n",
       "      <td>0.000000</td>\n",
       "      <td>110218.400000</td>\n",
       "    </tr>\n",
       "    <tr>\n",
       "      <th>75%</th>\n",
       "      <td>2021.000000</td>\n",
       "      <td>120234.400000</td>\n",
       "      <td>114039.360000</td>\n",
       "      <td>0.000000</td>\n",
       "      <td>9904.740000</td>\n",
       "      <td>1588.050000</td>\n",
       "      <td>123478.437500</td>\n",
       "    </tr>\n",
       "    <tr>\n",
       "      <th>max</th>\n",
       "      <td>2022.000000</td>\n",
       "      <td>149897.800000</td>\n",
       "      <td>151129.800000</td>\n",
       "      <td>69794.760000</td>\n",
       "      <td>21793.020000</td>\n",
       "      <td>22891.050000</td>\n",
       "      <td>194573.900000</td>\n",
       "    </tr>\n",
       "  </tbody>\n",
       "</table>\n",
       "</div>"
      ],
      "text/plain": [
       "           CalYear    Annual_Rate   Regular_Rate  Overtime_Rate  \\\n",
       "count   780.000000     780.000000     780.000000     780.000000   \n",
       "mean   2019.455128  113901.074000   85042.819192    1660.430846   \n",
       "std       1.983704   10900.982404   45514.497437    6480.351255   \n",
       "min    2016.000000  100001.200000    1796.560000       0.000000   \n",
       "25%    2018.000000  106121.600000   65694.722500       0.000000   \n",
       "50%    2020.000000  110635.200000  105139.220000       0.000000   \n",
       "75%    2021.000000  120234.400000  114039.360000       0.000000   \n",
       "max    2022.000000  149897.800000  151129.800000   69794.760000   \n",
       "\n",
       "       Incentive_Allowance         Other      YTD_Total  \n",
       "count           780.000000    780.000000     780.000000  \n",
       "mean           3399.134333   1728.974000   91831.358372  \n",
       "std            5296.140365   4449.207307   48551.813556  \n",
       "min               0.000000  -2465.650000    1980.800000  \n",
       "25%               0.000000      0.000000   77349.867500  \n",
       "50%               0.000000      0.000000  110218.400000  \n",
       "75%            9904.740000   1588.050000  123478.437500  \n",
       "max           21793.020000  22891.050000  194573.900000  "
      ]
     },
     "execution_count": 5,
     "metadata": {},
     "output_type": "execute_result"
    }
   ],
   "source": [
    "high_earner_df.describe()"
   ]
  },
  {
   "cell_type": "code",
   "execution_count": null,
   "metadata": {},
   "outputs": [],
   "source": [
    "%%timeit -n 100\n",
    "high_earner_df['Annual_Rate'].sum()"
   ]
  },
  {
   "cell_type": "code",
   "execution_count": 7,
   "metadata": {},
   "outputs": [
    {
     "data": {
      "text/plain": [
       "36        1.010676\n",
       "37        1.010596\n",
       "38        1.010674\n",
       "39        1.405405\n",
       "129       1.642924\n",
       "           ...    \n",
       "45903    26.000000\n",
       "46220     1.500265\n",
       "46221    26.000000\n",
       "46831    26.000000\n",
       "46832     3.058824\n",
       "Length: 780, dtype: float64"
      ]
     },
     "execution_count": 7,
     "metadata": {},
     "output_type": "execute_result"
    }
   ],
   "source": [
    "high_earner_df['Annual_Rate'] / high_earner_df['Regular_Rate']"
   ]
  },
  {
   "cell_type": "code",
   "execution_count": 10,
   "metadata": {
    "hidden": true
   },
   "outputs": [
    {
     "name": "stdout",
     "output_type": "stream",
     "text": [
      "775 µs ± 256 µs per loop (mean ± std. dev. of 7 runs, 10 loops each)\n"
     ]
    },
    {
     "name": "stderr",
     "output_type": "stream",
     "text": [
      "<magic-timeit>:2: SettingWithCopyWarning: \n",
      "A value is trying to be set on a copy of a slice from a DataFrame.\n",
      "Try using .loc[row_indexer,col_indexer] = value instead\n",
      "\n",
      "See the caveats in the documentation: https://pandas.pydata.org/pandas-docs/stable/user_guide/indexing.html#returning-a-view-versus-a-copy\n"
     ]
    }
   ],
   "source": [
    "%%timeit -n 10\n",
    "\n",
    "#vectorized operation\n",
    "high_earner_df['incentive_percentage'] = (high_earner_df['Incentive_Allowance'] / high_earner_df['Annual_Rate'])"
   ]
  },
  {
   "cell_type": "code",
   "execution_count": 11,
   "metadata": {
    "hidden": true
   },
   "outputs": [
    {
     "name": "stderr",
     "output_type": "stream",
     "text": [
      "<magic-timeit>:2: SettingWithCopyWarning: \n",
      "A value is trying to be set on a copy of a slice from a DataFrame.\n",
      "Try using .loc[row_indexer,col_indexer] = value instead\n",
      "\n",
      "See the caveats in the documentation: https://pandas.pydata.org/pandas-docs/stable/user_guide/indexing.html#returning-a-view-versus-a-copy\n"
     ]
    },
    {
     "name": "stdout",
     "output_type": "stream",
     "text": [
      "12.2 ms ± 2.06 ms per loop (mean ± std. dev. of 7 runs, 10 loops each)\n"
     ]
    }
   ],
   "source": [
    "%%timeit -n 10\n",
    "\n",
    "#non-vectorized\n",
    "high_earner_df['other_percentage'] = high_earner_df.apply(lambda x: x['Other'] / x['YTD_Total'],axis=1) #axis 1 is columns"
   ]
  },
  {
   "cell_type": "code",
   "execution_count": 12,
   "metadata": {
    "hidden": true
   },
   "outputs": [
    {
     "data": {
      "text/html": [
       "<div>\n",
       "<style scoped>\n",
       "    .dataframe tbody tr th:only-of-type {\n",
       "        vertical-align: middle;\n",
       "    }\n",
       "\n",
       "    .dataframe tbody tr th {\n",
       "        vertical-align: top;\n",
       "    }\n",
       "\n",
       "    .dataframe thead th {\n",
       "        text-align: right;\n",
       "    }\n",
       "</style>\n",
       "<table border=\"1\" class=\"dataframe\">\n",
       "  <thead>\n",
       "    <tr style=\"text-align: right;\">\n",
       "      <th></th>\n",
       "      <th>CalYear</th>\n",
       "      <th>Employee_Name</th>\n",
       "      <th>Department</th>\n",
       "      <th>jobTitle</th>\n",
       "      <th>Annual_Rate</th>\n",
       "      <th>Regular_Rate</th>\n",
       "      <th>Overtime_Rate</th>\n",
       "      <th>Incentive_Allowance</th>\n",
       "      <th>Other</th>\n",
       "      <th>YTD_Total</th>\n",
       "      <th>other_percentage</th>\n",
       "      <th>incentive_percentage</th>\n",
       "    </tr>\n",
       "  </thead>\n",
       "  <tbody>\n",
       "    <tr>\n",
       "      <th>14537</th>\n",
       "      <td>2022</td>\n",
       "      <td>Durham, Stephen</td>\n",
       "      <td>Metro Corrections</td>\n",
       "      <td>Assistant Director</td>\n",
       "      <td>118736.8</td>\n",
       "      <td>4566.80</td>\n",
       "      <td>0.0</td>\n",
       "      <td>0.0</td>\n",
       "      <td>-2283.40</td>\n",
       "      <td>2283.40</td>\n",
       "      <td>-1.000000</td>\n",
       "      <td>0.0</td>\n",
       "    </tr>\n",
       "    <tr>\n",
       "      <th>11577</th>\n",
       "      <td>2022</td>\n",
       "      <td>Troutman, Eric</td>\n",
       "      <td>Metro Corrections</td>\n",
       "      <td>Corrections Deputy</td>\n",
       "      <td>103001.6</td>\n",
       "      <td>3961.60</td>\n",
       "      <td>0.0</td>\n",
       "      <td>0.0</td>\n",
       "      <td>-1980.80</td>\n",
       "      <td>1980.80</td>\n",
       "      <td>-1.000000</td>\n",
       "      <td>0.0</td>\n",
       "    </tr>\n",
       "    <tr>\n",
       "      <th>6026</th>\n",
       "      <td>2022</td>\n",
       "      <td>Couch, Rebecca</td>\n",
       "      <td>Economic Development</td>\n",
       "      <td>Director</td>\n",
       "      <td>128213.8</td>\n",
       "      <td>4931.30</td>\n",
       "      <td>0.0</td>\n",
       "      <td>0.0</td>\n",
       "      <td>-2465.65</td>\n",
       "      <td>2465.65</td>\n",
       "      <td>-1.000000</td>\n",
       "      <td>0.0</td>\n",
       "    </tr>\n",
       "    <tr>\n",
       "      <th>13075</th>\n",
       "      <td>2020</td>\n",
       "      <td>Meador, Sharon</td>\n",
       "      <td>Technology Services</td>\n",
       "      <td>Senior IT Manager</td>\n",
       "      <td>110073.6</td>\n",
       "      <td>101250.99</td>\n",
       "      <td>0.0</td>\n",
       "      <td>0.0</td>\n",
       "      <td>0.00</td>\n",
       "      <td>101250.99</td>\n",
       "      <td>0.000000</td>\n",
       "      <td>0.0</td>\n",
       "    </tr>\n",
       "    <tr>\n",
       "      <th>17097</th>\n",
       "      <td>2018</td>\n",
       "      <td>Mott, Tundidaronyoro</td>\n",
       "      <td>Office of Performance Improvmt</td>\n",
       "      <td>Chief of Perf Imprvmt &amp; Tech</td>\n",
       "      <td>129802.4</td>\n",
       "      <td>128431.80</td>\n",
       "      <td>0.0</td>\n",
       "      <td>0.0</td>\n",
       "      <td>0.00</td>\n",
       "      <td>128431.80</td>\n",
       "      <td>0.000000</td>\n",
       "      <td>0.0</td>\n",
       "    </tr>\n",
       "    <tr>\n",
       "      <th>...</th>\n",
       "      <td>...</td>\n",
       "      <td>...</td>\n",
       "      <td>...</td>\n",
       "      <td>...</td>\n",
       "      <td>...</td>\n",
       "      <td>...</td>\n",
       "      <td>...</td>\n",
       "      <td>...</td>\n",
       "      <td>...</td>\n",
       "      <td>...</td>\n",
       "      <td>...</td>\n",
       "      <td>...</td>\n",
       "    </tr>\n",
       "    <tr>\n",
       "      <th>17096</th>\n",
       "      <td>2019</td>\n",
       "      <td>Mott, Tundidaronyoro</td>\n",
       "      <td>Office of Performance Improvmt</td>\n",
       "      <td>Chief of Perf Imprvmt &amp; Tech</td>\n",
       "      <td>129802.4</td>\n",
       "      <td>7488.60</td>\n",
       "      <td>0.0</td>\n",
       "      <td>0.0</td>\n",
       "      <td>9605.38</td>\n",
       "      <td>17093.98</td>\n",
       "      <td>0.561916</td>\n",
       "      <td>0.0</td>\n",
       "    </tr>\n",
       "    <tr>\n",
       "      <th>32338</th>\n",
       "      <td>2019</td>\n",
       "      <td>Ghose, Subhajeet</td>\n",
       "      <td>Parks &amp; Recreation</td>\n",
       "      <td>Director</td>\n",
       "      <td>132652.0</td>\n",
       "      <td>10204.00</td>\n",
       "      <td>0.0</td>\n",
       "      <td>0.0</td>\n",
       "      <td>17382.51</td>\n",
       "      <td>27586.51</td>\n",
       "      <td>0.630109</td>\n",
       "      <td>0.0</td>\n",
       "    </tr>\n",
       "    <tr>\n",
       "      <th>25734</th>\n",
       "      <td>2021</td>\n",
       "      <td>Wiederwohl, Mary</td>\n",
       "      <td>Economic Development</td>\n",
       "      <td>Chief of Louisville Forward</td>\n",
       "      <td>129802.4</td>\n",
       "      <td>9984.80</td>\n",
       "      <td>0.0</td>\n",
       "      <td>0.0</td>\n",
       "      <td>19969.60</td>\n",
       "      <td>29954.40</td>\n",
       "      <td>0.666667</td>\n",
       "      <td>0.0</td>\n",
       "    </tr>\n",
       "    <tr>\n",
       "      <th>4696</th>\n",
       "      <td>2017</td>\n",
       "      <td>Miller-Cooper, Carolyn</td>\n",
       "      <td>Human Relations Commission</td>\n",
       "      <td>Director</td>\n",
       "      <td>104041.6</td>\n",
       "      <td>4001.60</td>\n",
       "      <td>0.0</td>\n",
       "      <td>0.0</td>\n",
       "      <td>15446.17</td>\n",
       "      <td>19447.77</td>\n",
       "      <td>0.794239</td>\n",
       "      <td>0.0</td>\n",
       "    </tr>\n",
       "    <tr>\n",
       "      <th>3060</th>\n",
       "      <td>2021</td>\n",
       "      <td>Duncan, Cathy</td>\n",
       "      <td>Public Works</td>\n",
       "      <td>Director</td>\n",
       "      <td>116776.4</td>\n",
       "      <td>1796.56</td>\n",
       "      <td>0.0</td>\n",
       "      <td>0.0</td>\n",
       "      <td>17965.60</td>\n",
       "      <td>19762.16</td>\n",
       "      <td>0.909091</td>\n",
       "      <td>0.0</td>\n",
       "    </tr>\n",
       "  </tbody>\n",
       "</table>\n",
       "<p>780 rows × 12 columns</p>\n",
       "</div>"
      ],
      "text/plain": [
       "       CalYear           Employee_Name                      Department  \\\n",
       "14537     2022         Durham, Stephen               Metro Corrections   \n",
       "11577     2022          Troutman, Eric               Metro Corrections   \n",
       "6026      2022          Couch, Rebecca            Economic Development   \n",
       "13075     2020          Meador, Sharon             Technology Services   \n",
       "17097     2018    Mott, Tundidaronyoro  Office of Performance Improvmt   \n",
       "...        ...                     ...                             ...   \n",
       "17096     2019    Mott, Tundidaronyoro  Office of Performance Improvmt   \n",
       "32338     2019        Ghose, Subhajeet              Parks & Recreation   \n",
       "25734     2021        Wiederwohl, Mary            Economic Development   \n",
       "4696      2017  Miller-Cooper, Carolyn      Human Relations Commission   \n",
       "3060      2021           Duncan, Cathy                    Public Works   \n",
       "\n",
       "                           jobTitle  Annual_Rate  Regular_Rate  Overtime_Rate  \\\n",
       "14537            Assistant Director     118736.8       4566.80            0.0   \n",
       "11577            Corrections Deputy     103001.6       3961.60            0.0   \n",
       "6026                       Director     128213.8       4931.30            0.0   \n",
       "13075             Senior IT Manager     110073.6     101250.99            0.0   \n",
       "17097  Chief of Perf Imprvmt & Tech     129802.4     128431.80            0.0   \n",
       "...                             ...          ...           ...            ...   \n",
       "17096  Chief of Perf Imprvmt & Tech     129802.4       7488.60            0.0   \n",
       "32338                      Director     132652.0      10204.00            0.0   \n",
       "25734   Chief of Louisville Forward     129802.4       9984.80            0.0   \n",
       "4696                       Director     104041.6       4001.60            0.0   \n",
       "3060                       Director     116776.4       1796.56            0.0   \n",
       "\n",
       "       Incentive_Allowance     Other  YTD_Total  other_percentage  \\\n",
       "14537                  0.0  -2283.40    2283.40         -1.000000   \n",
       "11577                  0.0  -1980.80    1980.80         -1.000000   \n",
       "6026                   0.0  -2465.65    2465.65         -1.000000   \n",
       "13075                  0.0      0.00  101250.99          0.000000   \n",
       "17097                  0.0      0.00  128431.80          0.000000   \n",
       "...                    ...       ...        ...               ...   \n",
       "17096                  0.0   9605.38   17093.98          0.561916   \n",
       "32338                  0.0  17382.51   27586.51          0.630109   \n",
       "25734                  0.0  19969.60   29954.40          0.666667   \n",
       "4696                   0.0  15446.17   19447.77          0.794239   \n",
       "3060                   0.0  17965.60   19762.16          0.909091   \n",
       "\n",
       "       incentive_percentage  \n",
       "14537                   0.0  \n",
       "11577                   0.0  \n",
       "6026                    0.0  \n",
       "13075                   0.0  \n",
       "17097                   0.0  \n",
       "...                     ...  \n",
       "17096                   0.0  \n",
       "32338                   0.0  \n",
       "25734                   0.0  \n",
       "4696                    0.0  \n",
       "3060                    0.0  \n",
       "\n",
       "[780 rows x 12 columns]"
      ]
     },
     "execution_count": 12,
     "metadata": {},
     "output_type": "execute_result"
    }
   ],
   "source": [
    "high_earner_df.sort_values(by='other_percentage')"
   ]
  },
  {
   "cell_type": "code",
   "execution_count": null,
   "metadata": {
    "hidden": true
   },
   "outputs": [],
   "source": [
    "high_earner_df"
   ]
  },
  {
   "cell_type": "code",
   "execution_count": 13,
   "metadata": {
    "hidden": true
   },
   "outputs": [
    {
     "name": "stderr",
     "output_type": "stream",
     "text": [
      "<ipython-input-13-4e01a6782896>:1: SettingWithCopyWarning: \n",
      "A value is trying to be set on a copy of a slice from a DataFrame\n",
      "\n",
      "See the caveats in the documentation: https://pandas.pydata.org/pandas-docs/stable/user_guide/indexing.html#returning-a-view-versus-a-copy\n",
      "  high_earner_df.sort_values(by='other_percentage',inplace=True)\n"
     ]
    }
   ],
   "source": [
    "high_earner_df.sort_values(by='other_percentage',inplace=True)"
   ]
  },
  {
   "cell_type": "code",
   "execution_count": null,
   "metadata": {
    "hidden": true
   },
   "outputs": [],
   "source": [
    "high_earner_df"
   ]
  },
  {
   "cell_type": "code",
   "execution_count": null,
   "metadata": {
    "hidden": true
   },
   "outputs": [],
   "source": [
    "high_earner_df.describe()"
   ]
  },
  {
   "cell_type": "markdown",
   "metadata": {
    "heading_collapsed": true
   },
   "source": [
    "## Plotting:\n",
    "\n",
    "Here's a very basic example. The only rule is no pie charts.\n",
    "\n",
    "Docs: https://pandas.pydata.org/docs/reference/api/pandas.DataFrame.plot.html"
   ]
  },
  {
   "cell_type": "code",
   "execution_count": 27,
   "metadata": {},
   "outputs": [
    {
     "data": {
      "text/plain": [
       "array([2022, 2020, 2018, 2019, 2016, 2021, 2017], dtype=int64)"
      ]
     },
     "execution_count": 27,
     "metadata": {},
     "output_type": "execute_result"
    }
   ],
   "source": [
    "high_earner_df.CalYear.unique()"
   ]
  },
  {
   "cell_type": "code",
   "execution_count": 32,
   "metadata": {
    "hidden": true
   },
   "outputs": [
    {
     "data": {
      "image/png": "[encoded data removed]",
      "text/plain": [
       "<Figure size 432x288 with 1 Axes>"
      ]
     },
     "metadata": {
      "needs_background": "light"
     },
     "output_type": "display_data"
    }
   ],
   "source": [
    "mask = (high_earner_df['CalYear'] == 2019)\n",
    "high_earner_df[mask].plot(x='Other',y='YTD_Total',kind='scatter');"
   ]
  },
  {
   "cell_type": "markdown",
   "metadata": {},
   "source": [
    "SQL Example:\n",
    "\n",
    "select\n",
    "\n",
    "    CalYear\n",
    "\n",
    "    sum(YTD_Total) as total\n",
    "\n",
    "from high_earner_df \n",
    "\n",
    "group by CalYear"
   ]
  },
  {
   "cell_type": "code",
   "execution_count": 31,
   "metadata": {
    "hidden": true,
    "scrolled": true
   },
   "outputs": [
    {
     "data": {
      "text/plain": [
       "CalYear\n",
       "2016    3.136610e+08\n",
       "2017    3.297407e+08\n",
       "2018    3.365788e+08\n",
       "2019    3.278264e+08\n",
       "2020    3.331710e+08\n",
       "2021    3.307436e+08\n",
       "2022    1.232027e+07\n",
       "Name: YTD_Total, dtype: float64"
      ]
     },
     "execution_count": 31,
     "metadata": {},
     "output_type": "execute_result"
    }
   ],
   "source": [
    "summary_data = df.groupby(by='CalYear')['YTD_Total'].sum()\n",
    "summary_data"
   ]
  },
  {
   "cell_type": "markdown",
   "metadata": {},
   "source": [
    "## Plot Usage\n",
    "\n",
    "1. line chart : time series data, data over time (i.e. weight of a cat per day over a year)\n",
    "2. bar chart : multi purpose, see below \n",
    "3. histogram : if you have data divided into bins, like salary 10-20k, 20-30k, 40-50k\n",
    "4. scatter : anything you want to compare x values to y values"
   ]
  },
  {
   "cell_type": "code",
   "execution_count": 42,
   "metadata": {
    "hidden": true,
    "scrolled": false
   },
   "outputs": [
    {
     "data": {
      "image/png": "[encoded data removed]",
      "text/plain": [
       "<Figure size 432x288 with 1 Axes>"
      ]
     },
     "metadata": {
      "needs_background": "light"
     },
     "output_type": "display_data"
    }
   ],
   "source": [
    "summary_data.plot(kind='bar', title='totaly salary spend by year', color='purple', alpha=0.4);"
   ]
  },
  {
   "cell_type": "code",
   "execution_count": 22,
   "metadata": {},
   "outputs": [],
   "source": [
    "??pd.DataFrame.plot"
   ]
  },
  {
   "cell_type": "code",
   "execution_count": 19,
   "metadata": {},
   "outputs": [
    {
     "data": {
      "text/plain": [
       "<AxesSubplot:ylabel='YTD_Total'>"
      ]
     },
     "execution_count": 19,
     "metadata": {},
     "output_type": "execute_result"
    },
    {
     "data": {
      "image/png": "[encoded data removed]",
      "text/plain": [
       "<Figure size 432x288 with 1 Axes>"
      ]
     },
     "metadata": {},
     "output_type": "display_data"
    }
   ],
   "source": [
    "summary_data.plot(kind='pie')"
   ]
  },
  {
   "cell_type": "markdown",
   "metadata": {},
   "source": [
    "## Your Turn: \n",
    "\n",
    "1. With your dataset, try a few examples of querying and selecting data by slicing, masking, or query()\n",
    "2. Analyze your data; what do you see in it? Anything you find interesting? \n",
    "3. Calculate some fields with your data like I did above. \n",
    "4. Try graphing / visualizing your data either with Matplotlib or df.plot()"
   ]
  },
  {
   "cell_type": "markdown",
   "metadata": {},
   "source": [
    "## Next time: working with regex, aggregating data"
   ]
  },
  {
   "cell_type": "code",
   "execution_count": null,
   "metadata": {},
   "outputs": [],
   "source": [
    "d = {'col1': [0, 1, 2, 3], \n",
    "     'col2': pd.Series([2, 3], index=[2, 3]),\n",
    "     'year' : [1932, 1921, '1923v', '1999']}\n",
    "test_data = pd.DataFrame(data=d, index=[0, 1, 2, 3])\n",
    "test_data"
   ]
  },
  {
   "cell_type": "code",
   "execution_count": null,
   "metadata": {},
   "outputs": [],
   "source": [
    "test_data['year'].replace(to_replace='1923v', value=1923,inplace=True)\n",
    "test_data"
   ]
  },
  {
   "cell_type": "code",
   "execution_count": null,
   "metadata": {},
   "outputs": [],
   "source": [
    "# find different types of data per cell? \n",
    "# what are pandas object data type? \n",
    "test_data.dtypes\n",
    "test_data['year']"
   ]
  },
  {
   "cell_type": "code",
   "execution_count": null,
   "metadata": {},
   "outputs": [],
   "source": [
    "test_data['year'] = test_data['year'].astype('int32')"
   ]
  },
  {
   "cell_type": "code",
   "execution_count": null,
   "metadata": {},
   "outputs": [],
   "source": [
    "test_data.dtypes\n",
    "test_data['year'].mean()"
   ]
  },
  {
   "cell_type": "code",
   "execution_count": null,
   "metadata": {},
   "outputs": [],
   "source": [
    "test_data"
   ]
  },
  {
   "cell_type": "code",
   "execution_count": null,
   "metadata": {},
   "outputs": [],
   "source": [
    "d = {'col1': [0, 1, 2, 3], \n",
    "     'col2': pd.Series([2, 3], index=[2, 3]),\n",
    "     'year' : [1932, 1921, '1923v', '1999q']}\n",
    "test_data = pd.DataFrame(data=d, index=[0, 1, 2, 3])\n",
    "test_data"
   ]
  },
  {
   "cell_type": "code",
   "execution_count": null,
   "metadata": {},
   "outputs": [],
   "source": [
    "test_data.col2.mean()"
   ]
  },
  {
   "cell_type": "code",
   "execution_count": null,
   "metadata": {},
   "outputs": [],
   "source": [
    "#I am surprised I managed to get this to work\n",
    "test_data['year'].replace(to_replace=('[A-Za-z]'), value='', regex=True, inplace=True)"
   ]
  },
  {
   "cell_type": "code",
   "execution_count": null,
   "metadata": {},
   "outputs": [],
   "source": [
    "test_data"
   ]
  },
  {
   "cell_type": "code",
   "execution_count": null,
   "metadata": {},
   "outputs": [],
   "source": [
    "test_data.fillna(value=,inplace=True)"
   ]
  },
  {
   "cell_type": "code",
   "execution_count": null,
   "metadata": {},
   "outputs": [],
   "source": [
    "test_data"
   ]
  },
  {
   "cell_type": "code",
   "execution_count": null,
   "metadata": {},
   "outputs": [],
   "source": [
    "a = test_data.col2.mean(skipna=True)\n",
    "a"
   ]
  },
  {
   "cell_type": "code",
   "execution_count": null,
   "metadata": {},
   "outputs": [],
   "source": [
    "np.nan"
   ]
  },
  {
   "cell_type": "code",
   "execution_count": null,
   "metadata": {},
   "outputs": [],
   "source": []
  }
 ],
 "metadata": {
  "kernelspec": {
   "display_name": "Python 3",
   "language": "python",
   "name": "python3"
  },
  "language_info": {
   "codemirror_mode": {
    "name": "ipython",
    "version": 3
   },
   "file_extension": ".py",
   "mimetype": "text/x-python",
   "name": "python",
   "nbconvert_exporter": "python",
   "pygments_lexer": "ipython3",
   "version": "3.8.5"
  }
 },
 "nbformat": 4,
 "nbformat_minor": 5
}
