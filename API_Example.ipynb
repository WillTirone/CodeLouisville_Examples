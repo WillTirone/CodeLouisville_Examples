{
 "cells": [
  {
   "cell_type": "code",
   "execution_count": 1,
   "metadata": {},
   "outputs": [],
   "source": [
    "import requests "
   ]
  },
  {
   "cell_type": "code",
   "execution_count": 38,
   "metadata": {},
   "outputs": [],
   "source": [
    "URL = 'https://api.spacexdata.com/v3/capsules/upcoming' "
   ]
  },
  {
   "cell_type": "code",
   "execution_count": 39,
   "metadata": {},
   "outputs": [],
   "source": [
    "r = requests.get(URL)"
   ]
  },
  {
   "cell_type": "code",
   "execution_count": 40,
   "metadata": {},
   "outputs": [],
   "source": [
    "capsules = r.json() "
   ]
  },
  {
   "cell_type": "code",
   "execution_count": 42,
   "metadata": {},
   "outputs": [
    {
     "data": {
      "text/plain": [
       "[{'capsule_serial': 'C202',\n",
       "  'capsule_id': 'dragon2',\n",
       "  'status': 'active',\n",
       "  'original_launch': None,\n",
       "  'original_launch_unix': None,\n",
       "  'missions': [],\n",
       "  'landings': 0,\n",
       "  'type': 'Dragon 2.0',\n",
       "  'details': \"Capsule used to qualify Dragon 2's environmental control and life support systems.\",\n",
       "  'reuse_count': 0},\n",
       " {'capsule_serial': 'C203',\n",
       "  'capsule_id': 'dragon2',\n",
       "  'status': 'active',\n",
       "  'original_launch': None,\n",
       "  'original_launch_unix': None,\n",
       "  'missions': [],\n",
       "  'landings': 0,\n",
       "  'type': 'Dragon 2.0',\n",
       "  'details': 'Rumored to be used for Inflight Abort Test after DM-1',\n",
       "  'reuse_count': 0},\n",
       " {'capsule_serial': 'C204',\n",
       "  'capsule_id': 'dragon2',\n",
       "  'status': 'active',\n",
       "  'original_launch': None,\n",
       "  'original_launch_unix': None,\n",
       "  'missions': [],\n",
       "  'landings': 0,\n",
       "  'type': 'Dragon 2.0',\n",
       "  'details': 'Currently in construction for use in DM-2',\n",
       "  'reuse_count': 0}]"
      ]
     },
     "execution_count": 42,
     "metadata": {},
     "output_type": "execute_result"
    }
   ],
   "source": [
    "capsules"
   ]
  }
 ],
 "metadata": {
  "kernelspec": {
   "display_name": "Python 3",
   "language": "python",
   "name": "python3"
  },
  "language_info": {
   "codemirror_mode": {
    "name": "ipython",
    "version": 3
   },
   "file_extension": ".py",
   "mimetype": "text/x-python",
   "name": "python",
   "nbconvert_exporter": "python",
   "pygments_lexer": "ipython3",
   "version": "3.7.0"
  }
 },
 "nbformat": 4,
 "nbformat_minor": 2
}
