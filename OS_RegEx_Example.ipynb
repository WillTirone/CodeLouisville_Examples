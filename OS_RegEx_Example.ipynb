{
 "cells": [
  {
   "cell_type": "code",
   "execution_count": 1,
   "metadata": {},
   "outputs": [],
   "source": [
    "import os \n",
    "import re "
   ]
  },
  {
   "cell_type": "code",
   "execution_count": 21,
   "metadata": {
    "scrolled": true
   },
   "outputs": [
    {
     "name": "stdout",
     "output_type": "stream",
     "text": [
      "C:\\Users\\willt\\Desktop\\MAT 562\\TEST 1\n",
      "[]\n",
      "['562Exam1_Fall20-Part2.pdf', '562Exam1_Fall20.pdf', 'DIST_TABLES.pdf', 'ESTIMATION.pdf', 'SAMPLING_DIST.pdf', 'WILL_TIRONE_EXAM1_PT2.pdf', 'WILL_TIRONE_TEST1.pdf']\n"
     ]
    }
   ],
   "source": [
    "for dirs, dirp, files in os.walk(path): \n",
    "    print(dirs)\n",
    "    print(dirp)\n",
    "    print(files)"
   ]
  },
  {
   "cell_type": "code",
   "execution_count": 165,
   "metadata": {},
   "outputs": [],
   "source": [
    "def file_search(path):\n",
    "    for dirs, dirp, files in os.walk(path):\n",
    "        for f in files: \n",
    "            result = re.search('(\\w+)(_)(\\w+)', f)\n",
    "            if result: \n",
    "                print(result.group(0).upper())\n",
    "                # we would change the path / file name here if we wanted to "
   ]
  },
  {
   "cell_type": "code",
   "execution_count": 166,
   "metadata": {},
   "outputs": [
    {
     "name": "stdout",
     "output_type": "stream",
     "text": [
      "562EXAM1_FALL20\n",
      "562EXAM1_FALL20\n",
      "DIST_TABLES\n",
      "SAMPLING_DIST\n",
      "WILL_TIRONE_EXAM1_PT2\n",
      "WILL_TIRONE_TEST1\n"
     ]
    }
   ],
   "source": [
    "file_search(path)"
   ]
  },
  {
   "cell_type": "code",
   "execution_count": 106,
   "metadata": {},
   "outputs": [
    {
     "name": "stdout",
     "output_type": "stream",
     "text": [
      "2012-09-10-WillTirone.txt\n",
      "2012-09-10\n",
      "-\n",
      "WillTirone\n",
      ".txt\n"
     ]
    }
   ],
   "source": [
    "a = '2012-09-10-WillTirone.txt'\n",
    "\n",
    "text_search = re.search('(\\d{4}-\\d{2}-\\d{2})(-)(\\w+)(.\\w+)', a)\n",
    "for i in range(0,5):\n",
    "    print(text_search.group(i))"
   ]
  },
  {
   "cell_type": "code",
   "execution_count": 105,
   "metadata": {},
   "outputs": [
    {
     "name": "stdout",
     "output_type": "stream",
     "text": [
      "E\n",
      "E\n",
      "DIST\n",
      "ESTIMATION\n",
      "SAMPLING\n",
      "WILL\n",
      "WILL\n"
     ]
    }
   ],
   "source": [
    "b = 'UPPER CASE LETTERS'\n",
    "re.search('[A-Z]+',b)\n",
    "\n",
    "files = os.walk(path).__next__() \n",
    "files[2]\n",
    "\n",
    "for i in files[2]:\n",
    "    a = re.search('[A-Z]+',i)\n",
    "    print(a.group(0))"
   ]
  },
  {
   "cell_type": "code",
   "execution_count": 61,
   "metadata": {},
   "outputs": [],
   "source": [
    "#TREEHOUSE EXAMPLE\n",
    "\n",
    "\n",
    "# Filenames consist of a username (alphanumeric, 3-12 characters)\n",
    "# and a date (four digit year, two digit month, two digit day),\n",
    "# and an extension. They should end up in the format\n",
    "# year-month-day-username.extension.\n",
    "\n",
    "# Example: kennethlove2-2012-04-29.txt becomes 2012-04-29-kennethlove2.txt\n",
    "\n",
    "def cleanup(path):\n",
    "    for dirs, dirp, files in os.walk(path):\n",
    "        # second layer of the loop because this is a generator object that returns a 3-tuple and we \n",
    "        # want to access the files in it \n",
    "        for fil in files:\n",
    "            result = re.search(r'([\\w]+)(-)(\\d{4}-\\d{2}-\\d{2})([.\\w]+)', fil)\n",
    "            if result: \n",
    "                # function will start this step if there's a value for result, i.e. the regex matches \n",
    "                # the .groups() are just the new order that we want them in \n",
    "                # and to rename the files use os.rename(original_name, new_name)\n",
    "                replace = result.group(3) + result.group(2) + result.group(1) + result.group(4)\n",
    "                os.rename(os.path.join(path, fil),os.path.join(path, replace))\n"
   ]
  },
  {
   "cell_type": "code",
   "execution_count": null,
   "metadata": {},
   "outputs": [],
   "source": []
  }
 ],
 "metadata": {
  "kernelspec": {
   "display_name": "Python 3",
   "language": "python",
   "name": "python3"
  },
  "language_info": {
   "codemirror_mode": {
    "name": "ipython",
    "version": 3
   },
   "file_extension": ".py",
   "mimetype": "text/x-python",
   "name": "python",
   "nbconvert_exporter": "python",
   "pygments_lexer": "ipython3",
   "version": "3.7.0"
  }
 },
 "nbformat": 4,
 "nbformat_minor": 2
}
