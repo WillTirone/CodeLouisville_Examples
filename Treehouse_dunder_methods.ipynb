{
 "cells": [
  {
   "cell_type": "code",
   "execution_count": 15,
   "metadata": {},
   "outputs": [],
   "source": [
    "class NumString:\n",
    "    def __init__(self, value):\n",
    "        self.value = str(value)\n",
    "    def __str__(self):\n",
    "         return self.value\n",
    "    def __int__(self):\n",
    "        return int(self.value)\n",
    "    def __float__(self):\n",
    "        return float(self.value)\n",
    "    def __add__(self, other):\n",
    "        if '.' in self.value:\n",
    "            return float(self) + other\n",
    "        return int(self) + other\n",
    "    def __radd__(self, other):\n",
    "        return self + other\n",
    "    def __iadd__(self, other):\n",
    "        self.value = self + other\n",
    "        return self.value\n",
    "    def __mul__(self, other):\n",
    "        if '.' in self.value:\n",
    "            return float(self) * other\n",
    "        return int(self) * other\n",
    "    def __rmul__(self, other):\n",
    "        return self * other"
   ]
  },
  {
   "cell_type": "code",
   "execution_count": 16,
   "metadata": {},
   "outputs": [],
   "source": [
    "a = NumString(5.6)"
   ]
  },
  {
   "cell_type": "code",
   "execution_count": 18,
   "metadata": {},
   "outputs": [
    {
     "data": {
      "text/plain": [
       "28.0"
      ]
     },
     "execution_count": 18,
     "metadata": {},
     "output_type": "execute_result"
    }
   ],
   "source": [
    "a.__mul__(5)"
   ]
  },
  {
   "cell_type": "code",
   "execution_count": null,
   "metadata": {},
   "outputs": [],
   "source": []
  }
 ],
 "metadata": {
  "kernelspec": {
   "display_name": "Python 3",
   "language": "python",
   "name": "python3"
  },
  "language_info": {
   "codemirror_mode": {
    "name": "ipython",
    "version": 3
   },
   "file_extension": ".py",
   "mimetype": "text/x-python",
   "name": "python",
   "nbconvert_exporter": "python",
   "pygments_lexer": "ipython3",
   "version": "3.7.0"
  }
 },
 "nbformat": 4,
 "nbformat_minor": 2
}
