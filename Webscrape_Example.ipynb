{
 "cells": [
  {
   "cell_type": "code",
   "execution_count": 2,
   "metadata": {},
   "outputs": [],
   "source": [
    "import requests \n",
    "from bs4 import BeautifulSoup \n",
    "import re "
   ]
  },
  {
   "cell_type": "code",
   "execution_count": 12,
   "metadata": {},
   "outputs": [],
   "source": [
    "URL = 'https://featoflouisville.org/programs/'\n",
    "page = requests.get(URL)\n",
    "soup = BeautifulSoup(page.content, 'html.parser')"
   ]
  },
  {
   "cell_type": "code",
   "execution_count": 18,
   "metadata": {},
   "outputs": [
    {
     "data": {
      "text/plain": [
       "'Programs – FEAT Louisville'"
      ]
     },
     "execution_count": 18,
     "metadata": {},
     "output_type": "execute_result"
    }
   ],
   "source": [
    "# grab just the text without the tags \n",
    "soup.title.text "
   ]
  },
  {
   "cell_type": "code",
   "execution_count": 112,
   "metadata": {},
   "outputs": [
    {
     "data": {
      "text/plain": [
       "[<p>The Endeavor Program began as a collaboration between Carriage House Educational Services and FEAT of Louisville in 2003 to extend the traditional preschool program to provide a specialized, therapeutic preschool program for children ages 2-6 who have been identified as having autism or a related disorder. The Endeavor Program features a unique blend of Early Childhood Education and Early Intervention curriculums and strategies presented in a natural learning environment with a 2:1 student/teacher ratio. With six children and three trained staff in each classroom, the Endeavor Program ensures the intense interaction and instructional guidance that children with autism require to learn in a group setting. The teacher, behavior therapist, and parents review initial assessments and create Individualized Education Plans for each child so that they understand current skills, needed goals/objectives and skill acquisition.</p>,\n",
       " <p> </p>,\n",
       " <p style=\"text-align: center;\"><strong>Lori Wilson</strong><br/><i>Executive Director</i><br/><a href=\"mailto:%20loriwilson@carriagehouseps.org\">loriwilson@carriagehouseps.org</a></p>,\n",
       " <p> </p>,\n",
       " <p style=\"text-align: center;\">13101 Eastpoint Park Blvd., Louisville, KY 40223<br/><span style=\"color: #353535;\">(502) 253-1293</span><br/><a href=\"https://www.carriagehouseps.org/\">www.carriagehouseps.org</a></p>,\n",
       " <p>Since 2007, FEAT of Louisville has collaborated with Dreams with Wings to offer our community, Dreams in Motion, a summer camp for children ages 7-21 with autism. It is the only 8 week educational, therapeutic and recreational summer camp for children and teens with autism in the Louisville Metro area, surrounding counties, and Southern Indiana.</p>,\n",
       " <p>FEAT’s long term goal is to continue to increase the number of youth campers with autism that participate in this unique summer camp experience. Each year we move forward in incremental steps when adding additional slots or age groups to the camp.</p>,\n",
       " <p><strong>More information at</strong><br/><a href=\"https://www.dreamswithwings.org/services/childrens-services/youth-summer-camps/dreams-in-motion-summer-camp/\">www.dreamswithwings.org</a></p>,\n",
       " <p> </p>,\n",
       " <p> </p>,\n",
       " <p style=\"text-align: center;\"><strong>Carolyn Bunton</strong><br/><i>Camp Director</i><br/><a href=\"mailto:cbunton@dreamswithwings.org\">cbunton@dreamswithwings.org</a><br/>(502) 238-3300</p>,\n",
       " <p>An innovative approach to learning to swim for children with autism ages 3 and up, FEAT’s Get Your FEAT Wet swim program has shared this life saving skill with hundreds of children in our community since 2008. Collaborating with Home of the Innocents and All About Kids, FEAT has developed &amp; financed a very specialized swim program, which includes a behavior therapist to make the classes easier.</p>,\n",
       " <p>Many children with autism have deficits that prevent them from learning to swim in typical settings including hypotonia, sensory integration dysfunction and gross motor skill impairments. This combination of traits/deficits has proven fatal for many children with autism (drowning is a leading cause of death for these children); therefore, it’s imperative that they be taught to swim utilizing methods specifically designed for children with autism. We look forward to expanding this program to more locations in the future.</p>,\n",
       " <p style=\"text-align: center;\"><strong style=\"font-size: 14.4px;\">All About Kids</strong></p>,\n",
       " <p>2531 Blankenbaker Parkway<br/>Louisville, KY 40229<br/>(502) 809-1386</p>,\n",
       " <p style=\"text-align: center;\"><strong>Kristin Dunn</strong><br/><i>Aquatics Director</i><br/>  <a href=\"kristin.dunn@allaboutkids.cc\" rel=\"noopener noreferrer\" target=\"_blank\">kristin.dunn@allaboutkids.cc</a></p>,\n",
       " <p style=\"text-align: center;\"><strong>Home of the Innocents</strong><br/>1100 E Market St<br/>Louisville, KY 40206<br/>(502) 596-1141</p>,\n",
       " <p style=\"text-align: center;\"><strong>Beth Darrall</strong><br/><a href=\"bdarrall@homeoftheinnocents.org\"><i>bdarrall@homeoftheinnocents.org</i></a><br/><span style=\"color: #ef#e42;\">(502) 596-1143</span></p>,\n",
       " <p>Partnering with the University of Louisville Bass Rudd Tennis Center, FEAT has offered a 6-week tennis camp since 2014. The class size is small to facilitate more one-on-one training with a lead tennis pro and volunteers. Based on a very relaxed routine, children with autism learn the basics of tennis including holding a racket, hitting a ball, and learning the layout of the court, not to mention lots of exercise!</p>,\n",
       " <p>The high school years are a time of heightened social and emotional development and can be difficult even for those without ASD. The Best Buddies Kentucky program breaks through social barriers at an important time in a young person’s life. Teenagers and young adults with autism from FEAT of Louisville will be matched with typical peers from Trinity High School, UofL, and Bellarmine University via a very detailed application process. Through these relationships, one-on-one friendships between high school students and students with ASD are formed.</p>,\n",
       " <p style=\"text-align: center;\">Contact information:</p>,\n",
       " <p style=\"text-align: center;\">Emily Willis<br/>Program Manager, Community Engagement</p>,\n",
       " <p style=\"text-align: center;\">1911A Bardstown Road<br/>Louisville, KY 40205<br/>Phone: 502-742-1698<br/><a href=\"https://bestbuddies.org/find-programs/kentucky/\">www.bestbuddies.com/kentucky</a></p>,\n",
       " <p>It’s hard enough to be a teenager, but it’s harder still for adolescents with autism because they typically lack the ability to pick up on all the social cues most of us take for granted — things like body language, hand gestures and facial expressions, along with speech inflections like warmth, sarcasm or hostility. Lack of these basic social skills may lead to rejection, isolation or bullying from their peers. And sadly, that isolation can carry into their adult life.</p>,\n",
       " <p>Partnering with Dreams with Wings, the Building Social Skills program addresses the social needs of adolescents with autism. The program fosters the development of awareness of self and others, particularly with regard to social thinking in adolescents with autism.</p>,\n",
       " <p>The mission of Dreams With Wings is to empower individuals with intellectual and developmental disabilities including autism as they recognize their strengths, contribute to their community and pursue their dreams.</p>,\n",
       " <p style=\"text-align: center;\">Heather Bevins, MA, BCBA, LBA<br/>Director of Behavior Services<br/><a href=\"mailto:hbevins@dreamswithwings.org\">hbevins@dreamswithwings.org</a><br/>(606) 422-9121</p>,\n",
       " <p>One of the core components at the MidCity Campus of Bluegrass Center for Autism is independent and semi-independent life skills training. Within their campus uniquely located in Mid City Mall, students are prepared to develop the communicative, daily living and job readiness skills required to function as independently as possible.</p>,\n",
       " <p>In 2014, FEAT of Louisville began financially supporting the vocational job coach program where the students were able to put into practice the things they were learning by taking jobs, sometimes as volunteers, in the local stores in MidCity Mall.</p>,\n",
       " <p><a href=\"https://www.bluegrasscenterforautism.org/\">www.bluegrasscenterforautism.org</a></p>,\n",
       " <p style=\"text-align: center;\"><strong>Kosair Charities East Campus</strong><br/>9810 Bluegrass Parkway<br/>Louisville, KY 40299<br/>(502) 473-7219</p>,\n",
       " <p style=\"text-align: center;\"><strong>Christen Byrne</strong><br/><i>Executive Director</i><i><br/> </i> cbyrne@bluegrasscenterforautism.org<i><br/></i>(502) 409-9548</p>,\n",
       " <p style=\"text-align: center;\"><strong>Mid City Campus</strong><br/>1250 Bardstown Rd<br/>Louisville, KY 40204<br/>(502) 409-9548</p>,\n",
       " <p>Our Mission: Marty’s Orchid House is a therapeutic day program for young children facing behavior, emotional and health challenges to allow intense intervention along with integration and socialization with peers. Just as an Orchid is very sensitive to its environment and requires specific conditions to thrive, many children require a positive and supportive environment to reach their full potential. We are committed in advocating for high-risk children to increase the possibilities of a bright future.</p>,\n",
       " <p>Marty’s Orchid House is an all-day program, Monday through Friday, offering therapeutic, health-focused care for preschoolers ages 18 months to age 6 (or until Kindergarten) with sensory processing disorders, Autism Spectrum Disorder (ASD), and overlapping health issues. Our core program focuses on therapy &amp; behavioral interventions, individualized curriculum using the STAR Autism Support program, skilled nursing care and resource coordination, and nutritional support. We are an all-year program covered by Medicaid Waivers, straight Medicaid/Carewise and Medicaid’s Managed Care Organizations, including Passport Health Plan, WellCare, and Anthem Medicaid. Call 502-290-2421 to enroll your child or obtain more information!</p>,\n",
       " <p style=\"text-align: center;\"><strong>Contact information:</strong><br/>Kaitlin Blessitt, MSN, RN<br/><em>Executive Director</em><br/>C: 502.744.9111<br/>O: 502.290.2421<br/>F: 502.290.3779</p>,\n",
       " <p style=\"text-align: center;\">https://www.orchidhouse.org</p>,\n",
       " <p>Families for Effective Autism Treatment (FEAT) of Louisville is a non-profit organization that actively supports and funds autism programs for the entire family.</p>,\n",
       " <p>​1100 E Market St,<br/>Louisville, KY 40206<br/>(502) 774-0797<br/><a href=\"mailto:%20support@featoflouisville.org\">support@featoflouisville.org</a></p>,\n",
       " <p><a href=\"https://featoflouisville.org/private-policy/\">Privacy Policy</a></p>,\n",
       " <p><a href=\"https://featoflouisville.org/wp-content/uploads/2020/08/2017_Annual_Report-Update.docx\" rel=\"noopener noreferrer\" target=\"_blank\">Annual Report</a></p>,\n",
       " <p><a href=\"https://featoflouisville.org/wp-content/uploads/2020/08/2018-990.pdf\" rel=\"noopener noreferrer\" target=\"_blank\">IRS 990</a></p>]"
      ]
     },
     "execution_count": 112,
     "metadata": {},
     "output_type": "execute_result"
    }
   ],
   "source": [
    "soup.find_all('p')"
   ]
  },
  {
   "cell_type": "code",
   "execution_count": 119,
   "metadata": {},
   "outputs": [
    {
     "name": "stdout",
     "output_type": "stream",
     "text": [
      "The Endeavor Program began as a collaboration between Carriage House Educational Services and FEAT of Louisville in 2003 to extend the traditional preschool program to provide a specialized, therapeutic preschool program for children ages 2-6 who have been identified as having autism or a related disorder. The Endeavor Program features a unique blend of Early Childhood Education and Early Intervention curriculums and strategies presented in a natural learning environment with a 2:1 student/teacher ratio. With six children and three trained staff in each classroom, the Endeavor Program ensures the intense interaction and instructional guidance that children with autism require to learn in a group setting. The teacher, behavior therapist, and parents review initial assessments and create Individualized Education Plans for each child so that they understand current skills, needed goals/objectives and skill acquisition.\n",
      "\n",
      "Since 2007, FEAT of Louisville has collaborated with Dreams with Wings to offer our community, Dreams in Motion, a summer camp for children ages 7-21 with autism. It is the only 8 week educational, therapeutic and recreational summer camp for children and teens with autism in the Louisville Metro area, surrounding counties, and Southern Indiana.\n",
      "\n",
      "An innovative approach to learning to swim for children with autism ages 3 and up, FEAT’s Get Your FEAT Wet swim program has shared this life saving skill with hundreds of children in our community since 2008. Collaborating with Home of the Innocents and All About Kids, FEAT has developed & financed a very specialized swim program, which includes a behavior therapist to make the classes easier.\n",
      "\n",
      "2531 Blankenbaker ParkwayLouisville, KY 40229(502) 809-1386\n",
      "\n",
      "Kristin DunnAquatics Director  kristin.dunn@allaboutkids.cc\n",
      "\n",
      "Home of the Innocents1100 E Market StLouisville, KY 40206(502) 596-1141\n",
      "\n",
      "Beth Darrallbdarrall@homeoftheinnocents.org(502) 596-1143\n",
      "\n",
      "Partnering with the University of Louisville Bass Rudd Tennis Center, FEAT has offered a 6-week tennis camp since 2014. The class size is small to facilitate more one-on-one training with a lead tennis pro and volunteers. Based on a very relaxed routine, children with autism learn the basics of tennis including holding a racket, hitting a ball, and learning the layout of the court, not to mention lots of exercise!\n",
      "\n"
     ]
    },
    {
     "ename": "AttributeError",
     "evalue": "'NoneType' object has no attribute 'text'",
     "output_type": "error",
     "traceback": [
      "\u001b[1;31m---------------------------------------------------------------------------\u001b[0m",
      "\u001b[1;31mAttributeError\u001b[0m                            Traceback (most recent call last)",
      "\u001b[1;32m<ipython-input-119-61ede8488f22>\u001b[0m in \u001b[0;36m<module>\u001b[1;34m()\u001b[0m\n\u001b[0;32m      1\u001b[0m \u001b[1;32mfor\u001b[0m \u001b[0mi\u001b[0m \u001b[1;32min\u001b[0m \u001b[0msoup\u001b[0m\u001b[1;33m.\u001b[0m\u001b[0mfind_all\u001b[0m\u001b[1;33m(\u001b[0m\u001b[1;34m'div'\u001b[0m\u001b[1;33m,\u001b[0m \u001b[0mclass_\u001b[0m\u001b[1;33m=\u001b[0m\u001b[1;34m'x-text'\u001b[0m\u001b[1;33m)\u001b[0m\u001b[1;33m:\u001b[0m\u001b[1;33m\u001b[0m\u001b[0m\n\u001b[1;32m----> 2\u001b[1;33m     \u001b[0mprint\u001b[0m\u001b[1;33m(\u001b[0m\u001b[0mi\u001b[0m\u001b[1;33m.\u001b[0m\u001b[0mp\u001b[0m\u001b[1;33m.\u001b[0m\u001b[0mtext\u001b[0m\u001b[1;33m)\u001b[0m \u001b[1;31m# get the paragraphs and text using p.text\u001b[0m\u001b[1;33m\u001b[0m\u001b[0m\n\u001b[0m\u001b[0;32m      3\u001b[0m     \u001b[0mprint\u001b[0m\u001b[1;33m(\u001b[0m\u001b[1;33m)\u001b[0m\u001b[1;33m\u001b[0m\u001b[0m\n",
      "\u001b[1;31mAttributeError\u001b[0m: 'NoneType' object has no attribute 'text'"
     ]
    }
   ],
   "source": [
    "for i in soup.find_all('div', class_='x-text'): \n",
    "    print(i.p.text) # get the paragraphs and text using p.text \n",
    "    print() "
   ]
  },
  {
   "cell_type": "code",
   "execution_count": 109,
   "metadata": {},
   "outputs": [
    {
     "name": "stdout",
     "output_type": "stream",
     "text": [
      "#main\n",
      "https://featoflouisville.org/newsletter/\n",
      "https://featoflouisville.ejoinme.org/donation\n"
     ]
    }
   ],
   "source": [
    "list_of_links = soup.find_all('a', href=True)\n",
    "sample = list_of_links[0:3]\n",
    "\n",
    "for i in sample:\n",
    "    print(i['href'])"
   ]
  },
  {
   "cell_type": "code",
   "execution_count": 124,
   "metadata": {},
   "outputs": [
    {
     "data": {
      "text/plain": [
       "['Swimming Program – “Get Your FEAT Wet”']"
      ]
     },
     "execution_count": 124,
     "metadata": {},
     "output_type": "execute_result"
    }
   ],
   "source": [
    "# What if we want a particular type of program? Filter out results using regex and the re module \n",
    "soup.find_all(string=re.compile(\"Swimming\"))"
   ]
  },
  {
   "cell_type": "code",
   "execution_count": null,
   "metadata": {},
   "outputs": [],
   "source": []
  }
 ],
 "metadata": {
  "kernelspec": {
   "display_name": "Python 3",
   "language": "python",
   "name": "python3"
  },
  "language_info": {
   "codemirror_mode": {
    "name": "ipython",
    "version": 3
   },
   "file_extension": ".py",
   "mimetype": "text/x-python",
   "name": "python",
   "nbconvert_exporter": "python",
   "pygments_lexer": "ipython3",
   "version": "3.7.0"
  }
 },
 "nbformat": 4,
 "nbformat_minor": 2
}
