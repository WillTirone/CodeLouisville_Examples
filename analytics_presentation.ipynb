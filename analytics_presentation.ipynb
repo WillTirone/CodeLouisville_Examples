{
 "cells": [
  {
   "cell_type": "markdown",
   "metadata": {},
   "source": [
    "# Programming and Analytics: An Introduction to the Industry"
   ]
  },
  {
   "cell_type": "markdown",
   "metadata": {},
   "source": [
    "## 1. What is analytics / data science? \n",
    "---\n",
    "Analytics uses data and math to answer business questions, discover relationships, predict unknown outcomes and automate decisions. (https://www.sas.com/en_us/insights/analytics/what-is-analytics.html) \n",
    "\n",
    "You will notice this is extremely vague. Analytics encompasses a lot of different fields and subfields; analytical thinking and skills are used in everything from marine biology to finance. This is good news, because the skills for this are in demand and probably will be for a long time. \n",
    "\n",
    "Disclaimer: if you search for resources on the internet about \"what langauge should I learn?\" or \"How do I get into analytics?\" you will get dozens of different answers! Many different people from many different backgrounds have landed jobs in the field, and you can too. This is just my personal experience."
   ]
  },
  {
   "cell_type": "markdown",
   "metadata": {},
   "source": [
    "## 2. What skills or programming languages do I need to know if I want to get into the field? \n",
    "---\n",
    "### 2.1 the non-open source languages (used in data analytics): \n",
    "--- \n",
    "These were created by and maintained by a variety of companies. They are (mostly) not open source. The descriptions here are an over-generalization, but should be enough to get you started. I would probably not recommend you learn any of these as your first programming language. At a general level,  they do fairly similar things though with different syntaxes. If you get fairly in depth though, they become very powerful languages.\n",
    "\n",
    "**MATLAB**: Created by MathWorks, used in engineering and mathematically-heavy applications. \n",
    "\n",
    "**SAS**: Created by the SAS Institute, used in statistical and analytical applications \n",
    "\n",
    "**STATA**: Developed by StataCorp for data manipulation, visualization, statistics, and automated reporting. Mostly used by researchers in different fields. \n",
    "\n",
    "**SPSS**: SPSS Statistics is a software package used for interactive, or batched, statistical analysis. Long produced by SPSS Inc., it was acquired by IBM in 2009. Originally stood for \"Statistical Package for the Social Sciences\", still widely used by the social sciences. \n",
    "\n",
    "### 2.2 the open-source languages (used in data analytics): \n",
    "---\n",
    "These were created often by universities or individuals and are completely free, which is a big reason why they're so popular! You can start using any of these right now. \n",
    "\n",
    "**Python**: Developed in 1989 by Guido Van Rossum, popular because it is a general purpose language and can be used in a variety of applications. My personal favorite. \n",
    "\n",
    "**R**: Somewhat similar to Python, developed in 1993. Primarily used for statistics though has other uses. \n",
    "\n",
    "**Julia**: Developed in 2012 so is still relatively young; not as popular yet as Python / R, though it may be in the future\n",
    "\n",
    "**SQL**: Stands for Structured Query Language. It is not a programming language in the traditional sense, but is a query language to retrieve information from relational databases. Fairly easy to pick up. \n",
    "\n",
    "**C / C# / C**: Lower-level languages. (the languages above are higher-level, meaning easier for humans to read). These are extremely powerful languages with almost unlimited applications, though most people probably would not recommend them as a first language. \n",
    "\n",
    "### 2.3 Which should I learn first? There are so many! \n",
    "---\n",
    "You will hear a lot of different advice in this area, but my choices would be Python and SQL or R and SQL. This gives you the ability to work with large databases with SQL, and then manipulate, clean, and perform calculations on the data with Python and R\n"
   ]
  },
  {
   "cell_type": "markdown",
   "metadata": {},
   "source": [
    "## 3. Some code examples (it's okay if you don't understand them yet!) \n",
    "---\n",
    "\n",
    "### 3.1 Sample SQL Query\n",
    "---\n",
    "- this works with large databases, so it's difficult to show a real-life example in a presentation \n",
    "- they're fairly short and use very human-readable syntax so you can learn SQL at a working level in about a month\n",
    "\n",
    "\n",
    "```\n",
    "SELECT \n",
    "    id,\n",
    "    first_name,\n",
    "    last_nameid, \n",
    "    year,\n",
    "    occupation\n",
    "FROM sample_database;\n",
    "```\n",
    "\n",
    "The below is made up data, but this is what the output of a query might look like: \n",
    "\n",
    "\n",
    "| id    | first_name | last_nameid | year | occupation\n",
    "| ----------- | ----------- |----------- |----------- | -----------\n",
    "| 4561      | Will       | Tirone | 2021 | analyst\n",
    "| 8129   | Sample        | Name | 1992 | programmer\n",
    "\n",
    "### 3.2 Sample Python \n",
    "---\n",
    "This is actual, working Python. The method I'm using to present this, Jupyter Notebook, is used heavily in data science because you can write text in the cells, like you see above, and write sample code, like you'll see below. \n",
    "\n",
    "The project below is an ad hoc data analysis, meaning you might not come back to this code and run it every week. You might do something like this if your boss asks you \"Can you look at this dataset and tell me what the average price of a foreclosed home was?\" \n"
   ]
  },
  {
   "cell_type": "code",
   "execution_count": 1,
   "metadata": {},
   "outputs": [],
   "source": [
    "# popular python packages \n",
    "import pandas as pd \n",
    "import numpy as np \n",
    "import matplotlib.pyplot as plt \n",
    "pd.set_option('display.max_rows', None)\n",
    "\n",
    "# a module I've been working on \n",
    "import applied_stats.continuous_distributions as stats"
   ]
  },
  {
   "cell_type": "markdown",
   "metadata": {},
   "source": [
    "Let's read in some data, I found some foreclosure data for Louisville here: https://data.louisvilleky.gov/dataset/property-foreclosures"
   ]
  },
  {
   "cell_type": "code",
   "execution_count": 2,
   "metadata": {},
   "outputs": [],
   "source": [
    "data_set = pd.read_csv('MetroForeclosuresFiled.csv')"
   ]
  },
  {
   "cell_type": "code",
   "execution_count": 3,
   "metadata": {
    "scrolled": false
   },
   "outputs": [
    {
     "data": {
      "text/html": [
       "<div>\n",
       "<style scoped>\n",
       "    .dataframe tbody tr th:only-of-type {\n",
       "        vertical-align: middle;\n",
       "    }\n",
       "\n",
       "    .dataframe tbody tr th {\n",
       "        vertical-align: top;\n",
       "    }\n",
       "\n",
       "    .dataframe thead th {\n",
       "        text-align: right;\n",
       "    }\n",
       "</style>\n",
       "<table border=\"1\" class=\"dataframe\">\n",
       "  <thead>\n",
       "    <tr style=\"text-align: right;\">\n",
       "      <th></th>\n",
       "      <th>House Nr</th>\n",
       "      <th>Dir</th>\n",
       "      <th>Street Name</th>\n",
       "      <th>St Type</th>\n",
       "      <th>Post Dir</th>\n",
       "      <th>Zip</th>\n",
       "      <th>L/S</th>\n",
       "      <th>CD</th>\n",
       "      <th>Neighborhood</th>\n",
       "      <th>Full Parcel ID</th>\n",
       "      <th>Census Tract</th>\n",
       "      <th>Action Filed</th>\n",
       "      <th>Case#</th>\n",
       "      <th>Case Style</th>\n",
       "      <th>Sale Date</th>\n",
       "      <th>Sale Price</th>\n",
       "      <th>Purchaser</th>\n",
       "    </tr>\n",
       "  </thead>\n",
       "  <tbody>\n",
       "    <tr>\n",
       "      <th>0</th>\n",
       "      <td>622</td>\n",
       "      <td>E</td>\n",
       "      <td>Breckinridge</td>\n",
       "      <td>St</td>\n",
       "      <td>NaN</td>\n",
       "      <td>40203.0</td>\n",
       "      <td>S</td>\n",
       "      <td>4.0</td>\n",
       "      <td>Smoketown</td>\n",
       "      <td>09-022B-0142-0000</td>\n",
       "      <td>006200-1</td>\n",
       "      <td>11/19/2014</td>\n",
       "      <td>14-CI-402163</td>\n",
       "      <td>CW v. Putlak, Ken, et al.</td>\n",
       "      <td>9/2/2016</td>\n",
       "      <td>$22,500.00</td>\n",
       "      <td>Louisville Metro Housing Authority</td>\n",
       "    </tr>\n",
       "    <tr>\n",
       "      <th>1</th>\n",
       "      <td>624</td>\n",
       "      <td>E</td>\n",
       "      <td>Breckinridge</td>\n",
       "      <td>St</td>\n",
       "      <td>NaN</td>\n",
       "      <td>40203.0</td>\n",
       "      <td>S</td>\n",
       "      <td>4.0</td>\n",
       "      <td>Smoketown</td>\n",
       "      <td>09-022B-0143-0000</td>\n",
       "      <td>006200-1</td>\n",
       "      <td>5/29/2014</td>\n",
       "      <td>14-CI-401042</td>\n",
       "      <td>Metro v. Putlak, Ken, et al.</td>\n",
       "      <td>9/16/2016</td>\n",
       "      <td>$20,500.00</td>\n",
       "      <td>Louisville Metro Housing Authority</td>\n",
       "    </tr>\n",
       "    <tr>\n",
       "      <th>2</th>\n",
       "      <td>626</td>\n",
       "      <td>E</td>\n",
       "      <td>Breckinridge</td>\n",
       "      <td>St</td>\n",
       "      <td>NaN</td>\n",
       "      <td>40203.0</td>\n",
       "      <td>S</td>\n",
       "      <td>4.0</td>\n",
       "      <td>Smoketown</td>\n",
       "      <td>09-022B-0144-0000</td>\n",
       "      <td>006200-1</td>\n",
       "      <td>9/11/2014</td>\n",
       "      <td>14-CI-401648</td>\n",
       "      <td>CW v. John Yuen Family Trust, et al.</td>\n",
       "      <td>4/29/2016</td>\n",
       "      <td>$17,500.00</td>\n",
       "      <td>Louisville Metro Housing Authority</td>\n",
       "    </tr>\n",
       "    <tr>\n",
       "      <th>3</th>\n",
       "      <td>637</td>\n",
       "      <td>E</td>\n",
       "      <td>Burnett</td>\n",
       "      <td>Ave</td>\n",
       "      <td>NaN</td>\n",
       "      <td>40217.0</td>\n",
       "      <td>L</td>\n",
       "      <td>4.0</td>\n",
       "      <td>Merriwether</td>\n",
       "      <td>09-023J-0034-0000</td>\n",
       "      <td>007100-2</td>\n",
       "      <td>2/21/2017</td>\n",
       "      <td>17-CI-400271</td>\n",
       "      <td>CW v. Hayden, Nanetta R., et. al.</td>\n",
       "      <td>NaN</td>\n",
       "      <td>NaN</td>\n",
       "      <td>NaN</td>\n",
       "    </tr>\n",
       "    <tr>\n",
       "      <th>4</th>\n",
       "      <td>716</td>\n",
       "      <td>E</td>\n",
       "      <td>Burnett</td>\n",
       "      <td>St</td>\n",
       "      <td>NaN</td>\n",
       "      <td>40217.0</td>\n",
       "      <td>L</td>\n",
       "      <td>4.0</td>\n",
       "      <td>Merriwether</td>\n",
       "      <td>09-024B-0046-0000</td>\n",
       "      <td>NaN</td>\n",
       "      <td>2/5/2020</td>\n",
       "      <td>20-CI-400188</td>\n",
       "      <td>CW v. Unknown Heirs and Devisees of Marvin Bas...</td>\n",
       "      <td>NaN</td>\n",
       "      <td>NaN</td>\n",
       "      <td>NaN</td>\n",
       "    </tr>\n",
       "  </tbody>\n",
       "</table>\n",
       "</div>"
      ],
      "text/plain": [
       "  House Nr Dir   Street Name St Type Post Dir      Zip L/S   CD Neighborhood  \\\n",
       "0      622   E  Breckinridge      St      NaN  40203.0   S  4.0    Smoketown   \n",
       "1      624   E  Breckinridge      St      NaN  40203.0   S  4.0    Smoketown   \n",
       "2      626   E  Breckinridge      St      NaN  40203.0   S  4.0    Smoketown   \n",
       "3      637   E       Burnett     Ave      NaN  40217.0   L  4.0  Merriwether   \n",
       "4      716   E       Burnett      St      NaN  40217.0   L  4.0  Merriwether   \n",
       "\n",
       "      Full Parcel ID Census Tract Action Filed         Case#  \\\n",
       "0  09-022B-0142-0000     006200-1   11/19/2014  14-CI-402163   \n",
       "1  09-022B-0143-0000     006200-1    5/29/2014  14-CI-401042   \n",
       "2  09-022B-0144-0000     006200-1    9/11/2014  14-CI-401648   \n",
       "3  09-023J-0034-0000     007100-2    2/21/2017  17-CI-400271   \n",
       "4  09-024B-0046-0000          NaN     2/5/2020  20-CI-400188   \n",
       "\n",
       "                                          Case Style  Sale Date    Sale Price  \\\n",
       "0                          CW v. Putlak, Ken, et al.   9/2/2016   $22,500.00    \n",
       "1                       Metro v. Putlak, Ken, et al.  9/16/2016   $20,500.00    \n",
       "2               CW v. John Yuen Family Trust, et al.  4/29/2016   $17,500.00    \n",
       "3                  CW v. Hayden, Nanetta R., et. al.        NaN           NaN   \n",
       "4  CW v. Unknown Heirs and Devisees of Marvin Bas...        NaN           NaN   \n",
       "\n",
       "                            Purchaser  \n",
       "0  Louisville Metro Housing Authority  \n",
       "1  Louisville Metro Housing Authority  \n",
       "2  Louisville Metro Housing Authority  \n",
       "3                                 NaN  \n",
       "4                                 NaN  "
      ]
     },
     "execution_count": 3,
     "metadata": {},
     "output_type": "execute_result"
    }
   ],
   "source": [
    "# let's view the first few rows of the data just to see what it looks like \n",
    "\n",
    "data_set.head() "
   ]
  },
  {
   "cell_type": "markdown",
   "metadata": {},
   "source": [
    "There are a few ways to find basic descriptive info about a data set, like pandas .info() and .describe() methods"
   ]
  },
  {
   "cell_type": "code",
   "execution_count": 4,
   "metadata": {
    "scrolled": false
   },
   "outputs": [
    {
     "name": "stdout",
     "output_type": "stream",
     "text": [
      "<class 'pandas.core.frame.DataFrame'>\n",
      "RangeIndex: 929 entries, 0 to 928\n",
      "Data columns (total 17 columns):\n",
      " #   Column          Non-Null Count  Dtype  \n",
      "---  ------          --------------  -----  \n",
      " 0   House Nr        929 non-null    object \n",
      " 1   Dir             462 non-null    object \n",
      " 2   Street Name     929 non-null    object \n",
      " 3   St Type         925 non-null    object \n",
      " 4   Post Dir        10 non-null     object \n",
      " 5   Zip             926 non-null    float64\n",
      " 6   L/S             926 non-null    object \n",
      " 7   CD              927 non-null    float64\n",
      " 8   Neighborhood    923 non-null    object \n",
      " 9   Full Parcel ID  929 non-null    object \n",
      " 10  Census Tract    919 non-null    object \n",
      " 11  Action Filed    929 non-null    object \n",
      " 12  Case#           929 non-null    object \n",
      " 13  Case Style      929 non-null    object \n",
      " 14  Sale Date       814 non-null    object \n",
      " 15  Sale Price      801 non-null    object \n",
      " 16  Purchaser       806 non-null    object \n",
      "dtypes: float64(2), object(15)\n",
      "memory usage: 123.5+ KB\n"
     ]
    }
   ],
   "source": [
    "data_set.info()"
   ]
  },
  {
   "cell_type": "code",
   "execution_count": 5,
   "metadata": {
    "scrolled": true
   },
   "outputs": [
    {
     "data": {
      "text/html": [
       "<div>\n",
       "<style scoped>\n",
       "    .dataframe tbody tr th:only-of-type {\n",
       "        vertical-align: middle;\n",
       "    }\n",
       "\n",
       "    .dataframe tbody tr th {\n",
       "        vertical-align: top;\n",
       "    }\n",
       "\n",
       "    .dataframe thead th {\n",
       "        text-align: right;\n",
       "    }\n",
       "</style>\n",
       "<table border=\"1\" class=\"dataframe\">\n",
       "  <thead>\n",
       "    <tr style=\"text-align: right;\">\n",
       "      <th></th>\n",
       "      <th>Zip</th>\n",
       "      <th>CD</th>\n",
       "    </tr>\n",
       "  </thead>\n",
       "  <tbody>\n",
       "    <tr>\n",
       "      <th>count</th>\n",
       "      <td>926.000000</td>\n",
       "      <td>927.000000</td>\n",
       "    </tr>\n",
       "    <tr>\n",
       "      <th>mean</th>\n",
       "      <td>40209.917927</td>\n",
       "      <td>5.252427</td>\n",
       "    </tr>\n",
       "    <tr>\n",
       "      <th>std</th>\n",
       "      <td>8.839332</td>\n",
       "      <td>3.170622</td>\n",
       "    </tr>\n",
       "    <tr>\n",
       "      <th>min</th>\n",
       "      <td>40059.000000</td>\n",
       "      <td>1.000000</td>\n",
       "    </tr>\n",
       "    <tr>\n",
       "      <th>25%</th>\n",
       "      <td>40208.500000</td>\n",
       "      <td>4.000000</td>\n",
       "    </tr>\n",
       "    <tr>\n",
       "      <th>50%</th>\n",
       "      <td>40211.000000</td>\n",
       "      <td>5.000000</td>\n",
       "    </tr>\n",
       "    <tr>\n",
       "      <th>75%</th>\n",
       "      <td>40212.000000</td>\n",
       "      <td>6.000000</td>\n",
       "    </tr>\n",
       "    <tr>\n",
       "      <th>max</th>\n",
       "      <td>40299.000000</td>\n",
       "      <td>25.000000</td>\n",
       "    </tr>\n",
       "  </tbody>\n",
       "</table>\n",
       "</div>"
      ],
      "text/plain": [
       "                Zip          CD\n",
       "count    926.000000  927.000000\n",
       "mean   40209.917927    5.252427\n",
       "std        8.839332    3.170622\n",
       "min    40059.000000    1.000000\n",
       "25%    40208.500000    4.000000\n",
       "50%    40211.000000    5.000000\n",
       "75%    40212.000000    6.000000\n",
       "max    40299.000000   25.000000"
      ]
     },
     "execution_count": 5,
     "metadata": {},
     "output_type": "execute_result"
    }
   ],
   "source": [
    "data_set.describe() "
   ]
  },
  {
   "cell_type": "markdown",
   "metadata": {},
   "source": [
    "It looks like we have a problem though - I expected \"Sale Price\" to be included in this aggregation, but it wasn't. That's because it's of type \"object\", as you can see in the previous cell. That means it's non-numeric and pandas won't perform any calculations on the field. So we have to change the type and clean this column first.\n",
    "\n",
    "The commands below will do that using a replace function to replace the dollar signs and commas with blanks"
   ]
  },
  {
   "cell_type": "code",
   "execution_count": 6,
   "metadata": {},
   "outputs": [],
   "source": [
    "data_set['Sale Price'] = data_set['Sale Price'].str.replace(',', '')\n",
    "data_set['Sale Price'] = data_set['Sale Price'].str.replace('$', '')\n",
    "data_set['Sale Price'] = data_set['Sale Price'].str.strip() \n",
    "data_set['Sale Price'] = data_set['Sale Price'].str.replace(r'\\.[0-9]+', '')\n",
    "data_set['Sale Price'] = data_set['Sale Price'].replace(np.NaN, 0)\n",
    "\n",
    "data_set['Sale Price'] = data_set['Sale Price'].astype(int)"
   ]
  },
  {
   "cell_type": "code",
   "execution_count": 7,
   "metadata": {
    "scrolled": true
   },
   "outputs": [
    {
     "data": {
      "text/plain": [
       "0    22500\n",
       "1    20500\n",
       "2    17500\n",
       "3        0\n",
       "4        0\n",
       "5      500\n",
       "6    12000\n",
       "7      500\n",
       "8        0\n",
       "9    30500\n",
       "Name: Sale Price, dtype: int32"
      ]
     },
     "execution_count": 7,
     "metadata": {},
     "output_type": "execute_result"
    }
   ],
   "source": [
    "data_set['Sale Price'][0:10]"
   ]
  },
  {
   "cell_type": "markdown",
   "metadata": {},
   "source": [
    "Great, looks like all the cleaning above worked. We can try some pandas descriptors and see what the result is now. As you'll see, we can now calculate anything we want with the sale price because it's an integer rather than an object. "
   ]
  },
  {
   "cell_type": "code",
   "execution_count": 8,
   "metadata": {
    "scrolled": false
   },
   "outputs": [
    {
     "data": {
      "text/html": [
       "<div>\n",
       "<style scoped>\n",
       "    .dataframe tbody tr th:only-of-type {\n",
       "        vertical-align: middle;\n",
       "    }\n",
       "\n",
       "    .dataframe tbody tr th {\n",
       "        vertical-align: top;\n",
       "    }\n",
       "\n",
       "    .dataframe thead th {\n",
       "        text-align: right;\n",
       "    }\n",
       "</style>\n",
       "<table border=\"1\" class=\"dataframe\">\n",
       "  <thead>\n",
       "    <tr style=\"text-align: right;\">\n",
       "      <th></th>\n",
       "      <th>Zip</th>\n",
       "      <th>CD</th>\n",
       "      <th>Sale Price</th>\n",
       "    </tr>\n",
       "  </thead>\n",
       "  <tbody>\n",
       "    <tr>\n",
       "      <th>count</th>\n",
       "      <td>926.000000</td>\n",
       "      <td>927.000000</td>\n",
       "      <td>929.000000</td>\n",
       "    </tr>\n",
       "    <tr>\n",
       "      <th>mean</th>\n",
       "      <td>40209.917927</td>\n",
       "      <td>5.252427</td>\n",
       "      <td>8670.428418</td>\n",
       "    </tr>\n",
       "    <tr>\n",
       "      <th>std</th>\n",
       "      <td>8.839332</td>\n",
       "      <td>3.170622</td>\n",
       "      <td>16870.299919</td>\n",
       "    </tr>\n",
       "    <tr>\n",
       "      <th>min</th>\n",
       "      <td>40059.000000</td>\n",
       "      <td>1.000000</td>\n",
       "      <td>0.000000</td>\n",
       "    </tr>\n",
       "    <tr>\n",
       "      <th>25%</th>\n",
       "      <td>40208.500000</td>\n",
       "      <td>4.000000</td>\n",
       "      <td>667.000000</td>\n",
       "    </tr>\n",
       "    <tr>\n",
       "      <th>50%</th>\n",
       "      <td>40211.000000</td>\n",
       "      <td>5.000000</td>\n",
       "      <td>3500.000000</td>\n",
       "    </tr>\n",
       "    <tr>\n",
       "      <th>75%</th>\n",
       "      <td>40212.000000</td>\n",
       "      <td>6.000000</td>\n",
       "      <td>10000.000000</td>\n",
       "    </tr>\n",
       "    <tr>\n",
       "      <th>max</th>\n",
       "      <td>40299.000000</td>\n",
       "      <td>25.000000</td>\n",
       "      <td>225000.000000</td>\n",
       "    </tr>\n",
       "  </tbody>\n",
       "</table>\n",
       "</div>"
      ],
      "text/plain": [
       "                Zip          CD     Sale Price\n",
       "count    926.000000  927.000000     929.000000\n",
       "mean   40209.917927    5.252427    8670.428418\n",
       "std        8.839332    3.170622   16870.299919\n",
       "min    40059.000000    1.000000       0.000000\n",
       "25%    40208.500000    4.000000     667.000000\n",
       "50%    40211.000000    5.000000    3500.000000\n",
       "75%    40212.000000    6.000000   10000.000000\n",
       "max    40299.000000   25.000000  225000.000000"
      ]
     },
     "execution_count": 8,
     "metadata": {},
     "output_type": "execute_result"
    }
   ],
   "source": [
    "data_set.describe() "
   ]
  },
  {
   "cell_type": "markdown",
   "metadata": {},
   "source": [
    "Let's plot some of this data to try to understand it. Another nice thing about Jupyter Notebook is that you can plot and display things right along side code and text."
   ]
  },
  {
   "cell_type": "code",
   "execution_count": 9,
   "metadata": {},
   "outputs": [
    {
     "data": {
      "image/png": "[encoded data removed]",
      "text/plain": [
       "<Figure size 432x288 with 1 Axes>"
      ]
     },
     "metadata": {},
     "output_type": "display_data"
    }
   ],
   "source": [
    "plt.hist(data_set['Sale Price'], 20); \n",
    "plt.xlabel('Sale Price of Louisville Homes');\n",
    "plt.ylabel('Count of Homes in Respective Bins');\n",
    "plt.title('Count of Sale Prices from Foreclosed Homes in Louisville during [year]');"
   ]
  },
  {
   "cell_type": "code",
   "execution_count": 12,
   "metadata": {},
   "outputs": [
    {
     "data": {
      "image/png": "[encoded data removed]",
      "text/plain": [
       "<Figure size 432x288 with 1 Axes>"
      ]
     },
     "metadata": {},
     "output_type": "display_data"
    }
   ],
   "source": [
    "# sample size \n",
    "n = len(data_set.index)\n",
    "\n",
    "# divided by the sample size just to scale and show the visual\n",
    "mu = data_set['Sale Price'].mean() / n\n",
    "var = int(round(data_set['Sale Price'].std() / n, 0))\n",
    "\n",
    "distribution = stats.Norm_rv(mu, var, crit_value=mu)\n",
    "distribution.plot_pdf() "
   ]
  },
  {
   "cell_type": "code",
   "execution_count": 13,
   "metadata": {},
   "outputs": [
    {
     "data": {
      "text/plain": [
       "'P(X<crit_val) is 0.5 with an error estimate of 0.0'"
      ]
     },
     "execution_count": 13,
     "metadata": {},
     "output_type": "execute_result"
    }
   ],
   "source": [
    "distribution.probability_calc() "
   ]
  },
  {
   "cell_type": "markdown",
   "metadata": {},
   "source": [
    "### Conclusion\n",
    "\n",
    "About half the foreclosed home prices fall below $8670 and can be modelled assuming a normal distribution with the density function: \n",
    "\n",
    "$\n",
    "\\begin{equation}\n",
    "f(x) = \\frac{1}{\\sqrt{2\\pi\\sigma^2}}e^{{-\\frac{1}{2}}(\\frac{x-\\mu}{\\sigma})^2} ,  \\quad  -\\infty < x < \\infty\n",
    "\\end{equation}\n",
    "$\n",
    "\n",
    "However, pay attention that I replaced null values with 0! This is significantly skewing the mean value towards zero so my result is probably not accurate. If you wanted to get more in depth, you could perform hypothesis testing, calculate confidence intervals, etc. etc."
   ]
  },
  {
   "cell_type": "markdown",
   "metadata": {},
   "source": [
    "## So how do I get a job in analytics? \n",
    "\n",
    "### 1. Maintain a well-organized GitHub and make frequent commits. \n",
    "   - There's nothing more productive or convincing you can do in my opinion than building a solid portfolio. Your code doesn't have to (and will not) be perfect. Explore different languages and techniques. Just get your code out there! It doesn't even have to run! Quality > Quantity at this stage in your career. You can take a look at mine here: https://github.com/WillTirone\n",
    "   - If you're feeling ambitious and have a good level of comfort with a language, work on some open-source projects. There is probably almost no better way to \"prove\" you can work on a team / big project than doing this. This guide is great: https://www.firsttimersonly.com/\n",
    "   \n",
    "### 2. Apply to A LOT of jobs.\n",
    "- When I switched from banking to analytics, I applied to probably 50+ jobs over the course of several months. Write cover letters, tailor your resume, follow up with recruiters, curate your linkedin profile.\n",
    "\n",
    "### 3. Utilize a career counselor.\n",
    "- They are much better at this than I am. I talk to my undergrad alumni career counselor when I'm applying to new things or altering my resume. If you're in CodeLou, talk to Emily Sullivan! https://www.kentuckianaworks.org/adult\n",
    "\n"
   ]
  },
  {
   "cell_type": "markdown",
   "metadata": {},
   "source": [
    "Feel free to reach out to me with any questions: \n",
    "\n",
    "will.tirone1@gmail.com\n",
    "\n",
    "https://www.linkedin.com/in/will-tirone-60841b91/\n",
    "\n",
    "https://github.com/WillTirone"
   ]
  },
  {
   "cell_type": "code",
   "execution_count": null,
   "metadata": {},
   "outputs": [],
   "source": []
  }
 ],
 "metadata": {
  "kernelspec": {
   "display_name": "Python 3",
   "language": "python",
   "name": "python3"
  },
  "language_info": {
   "codemirror_mode": {
    "name": "ipython",
    "version": 3
   },
   "file_extension": ".py",
   "mimetype": "text/x-python",
   "name": "python",
   "nbconvert_exporter": "python",
   "pygments_lexer": "ipython3",
   "version": "3.8.5"
  }
 },
 "nbformat": 4,
 "nbformat_minor": 4
}
